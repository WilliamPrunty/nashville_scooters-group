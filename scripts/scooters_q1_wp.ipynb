{
 "cells": [
  {
   "cell_type": "code",
   "execution_count": null,
   "id": "12587cd4",
   "metadata": {},
   "outputs": [],
   "source": [
    "#importing modules necessary for question 1\n",
    "\n",
    "import pandas as pd\n",
    "import matplotlib.pyplot as plt\n",
    "import seaborn as sns"
   ]
  },
  {
   "cell_type": "code",
   "execution_count": null,
   "id": "cb3d230e",
   "metadata": {},
   "outputs": [],
   "source": [
    "#reading in cleaned trips data\n",
    "\n",
    "trips = pd.read_csv('../data/tripscleaned.csv')"
   ]
  },
  {
   "cell_type": "code",
   "execution_count": null,
   "id": "83ca1f30",
   "metadata": {},
   "outputs": [],
   "source": [
    "#checking datatypes\n",
    "\n",
    "trips.info()"
   ]
  },
  {
   "cell_type": "code",
   "execution_count": null,
   "id": "f4656a18",
   "metadata": {
    "scrolled": true
   },
   "outputs": [],
   "source": [
    "#assigning datatype 'datetime' to startdatetime and enddatetime for further analysis.\n",
    "#checking datatypes to verify the change. \n",
    "\n",
    "trips['startdatetime'] = pd.to_datetime(trips['startdatetime'])\n",
    "trips['enddatetime'] = pd.to_datetime(trips['enddatetime'])\n",
    "trips.info()"
   ]
  },
  {
   "cell_type": "code",
   "execution_count": null,
   "id": "e0720ce2",
   "metadata": {},
   "outputs": [],
   "source": [
    "#cleaning and resetting prior index.\n",
    "\n",
    "trips = trips.reset_index(drop=True)\n",
    "trips = trips.drop(columns='Unnamed: 0')"
   ]
  },
  {
   "cell_type": "markdown",
   "id": "c9c692d5",
   "metadata": {},
   "source": [
    "### 1. During this period, seven companies offered scooters. How many scooters did each company have in this time frame? Did the number for each company change over time? Did scooter usage vary by company?\n",
    "\n",
    "Utilzing the cleaned data from initial EDA/answering question 2, I will begin exploring scooter usage through time. A trip 'occurs' on the day that the ride starts ('startdatetime') regardless of whether or not the trip extends into a different day/week/month. "
   ]
  },
  {
   "cell_type": "code",
   "execution_count": null,
   "id": "95925b64",
   "metadata": {},
   "outputs": [],
   "source": [
    "#creating a few variables to analyze scooter usage over time. \n",
    "#By week and month should be sufficient enough to see how the quantity of scooters changes over time.\n",
    "\n",
    "trips['week_number'] = trips['startdatetime'].dt.isocalendar().week\n",
    "trips['month'] = trips['startdatetime'].dt.month"
   ]
  },
  {
   "cell_type": "code",
   "execution_count": null,
   "id": "3caa8fdf",
   "metadata": {},
   "outputs": [],
   "source": [
    "#counting unique 'sumdid' by 'companyname' and 'week_number'\n",
    "\n",
    "weekcounts = trips.groupby(['companyname', 'week_number']).nunique('sumdid')"
   ]
  },
  {
   "cell_type": "code",
   "execution_count": null,
   "id": "a4acaa6e",
   "metadata": {},
   "outputs": [],
   "source": [
    "#formatting table for future plotting\n",
    "\n",
    "weekcounts = weekcounts[['sumdid']]\n",
    "weekcounts = weekcounts.reset_index()\n",
    "weekcounts.columns = ['companyname', 'week_number', 'uniquescooters']"
   ]
  },
  {
   "cell_type": "code",
   "execution_count": null,
   "id": "981b040d",
   "metadata": {},
   "outputs": [],
   "source": [
    "#combining both steps above for month.\n",
    "\n",
    "monthcounts = trips.groupby(['companyname', 'month']).nunique('sumdid')\n",
    "monthcounts = monthcounts[['sumdid']]\n",
    "monthcounts = monthcounts.reset_index()\n",
    "monthcounts.columns = ['companyname', 'month', 'uniquescooters']"
   ]
  },
  {
   "cell_type": "code",
   "execution_count": null,
   "id": "77bf1457",
   "metadata": {},
   "outputs": [],
   "source": [
    "totalcounts = trips.groupby(by='companyname').nunique('sumdid')\n",
    "totalcounts = totalcounts[['sumdid']]\n",
    "totalcounts = totalcounts.reset_index()\n",
    "totalcounts.columns = ['companyname', 'uniquescooters']"
   ]
  },
  {
   "cell_type": "code",
   "execution_count": null,
   "id": "65f9215a",
   "metadata": {},
   "outputs": [],
   "source": [
    "#creating barplot of total unique scooters represented in the data, by company.\n",
    "\n",
    "sns.barplot(data=totalcounts, x='companyname', y='uniquescooters')\n",
    "plt.xlabel(None)\n",
    "plt.ylabel('# of Scooters')\n",
    "plt.title('Total Scooters 05/2019-07/2019')\n",
    "plt.show()"
   ]
  },
  {
   "cell_type": "code",
   "execution_count": null,
   "id": "5f054db3",
   "metadata": {
    "scrolled": false
   },
   "outputs": [],
   "source": [
    "#plotting scooter ids by month on a lineplot to show how the number of unique ID's change over time.\n",
    "\n",
    "sns.lineplot(data=monthcounts, x='month', y='uniquescooters', hue='companyname')\n",
    "plt.xticks([5, 6, 7], labels=['May','June','July'])\n",
    "plt.xlabel(None)\n",
    "plt.ylabel('# of Scooters')\n",
    "plt.title('Unique Scooter IDs by Month')\n",
    "plt.legend(bbox_to_anchor=(1.02, 1), loc='upper left', borderaxespad=0)\n",
    "plt.show()"
   ]
  },
  {
   "cell_type": "code",
   "execution_count": null,
   "id": "07bbf868",
   "metadata": {},
   "outputs": [],
   "source": [
    "#changing 'week_number' datatype, would not plot with the automatically assigned datatype from above\n",
    "\n",
    "weekcounts['week_number'] = weekcounts['week_number'].astype(int)"
   ]
  },
  {
   "cell_type": "code",
   "execution_count": null,
   "id": "f583294e",
   "metadata": {},
   "outputs": [],
   "source": [
    "#Creating line plot of unique scooter ids by week of the year. \n",
    "#This graph better shows how the number of scooters changes throughout the dataset, with \n",
    "#obvious peaks and valleys, presumably from the removal of broken scooters and the addition of \n",
    "#new scooters. \n",
    "\n",
    "sns.lineplot(data=weekcounts, x='week_number', y='uniquescooters', hue='companyname')\n",
    "plt.xticks([18, 19, 20, 21, 22, 23, 24, 25, 26, 27, 28, 29, 30, 31])\n",
    "plt.xlabel('Week Number')\n",
    "plt.ylabel('# of Scooters')\n",
    "plt.title('Unique Scooter IDs by Week')\n",
    "plt.legend(bbox_to_anchor=(1.02, 1), loc='upper left', borderaxespad=0)\n",
    "plt.show()"
   ]
  },
  {
   "cell_type": "markdown",
   "id": "f8174ef6",
   "metadata": {},
   "source": [
    "## Q1 Answer\n",
    "\n",
    "Bird had the greatest number of scooters during this time, with 3757 unique 'sumdid's represented in the data. Gotcha had the lowest number of scooters during this time with 166 scooters represented. \n",
    "\n",
    "The number of scooters changed over time, best represented by looking at the 'Unique Scooter IDs by Week' lineplot. Only JUMP had more scooters in service by the end of the data, all others had less scooters at the end of the reporting period. \n",
    "Looking at the above plot, you can see how companies have removed and added scooters through out the timeframe, Bird had the largest addition in one week at an additional ~800 scooters from week 25 to week 26. Bird and Lime share the number one spot for most scooters lost in one week, ~400 during weeks 24/25 and 26/27 respectively. I hypothesize the removal of scooters is due to damage or otherwise loss. The addition of scooters seems to be mostly a matter of 'replacement rate' where only JUMP appears to be actively adding to their fleet size regardless of scooter loss.\n",
    "\n",
    "Scooter usage clearly varies by company but most likely due to the fleetsize of a given company. Bird has more scooters on the streets, therefore they have more rides represented in the dataset. "
   ]
  }
 ],
 "metadata": {
  "kernelspec": {
   "display_name": "Python 3 (ipykernel)",
   "language": "python",
   "name": "python3"
  },
  "language_info": {
   "codemirror_mode": {
    "name": "ipython",
    "version": 3
   },
   "file_extension": ".py",
   "mimetype": "text/x-python",
   "name": "python",
   "nbconvert_exporter": "python",
   "pygments_lexer": "ipython3",
   "version": "3.9.13"
  }
 },
 "nbformat": 4,
 "nbformat_minor": 5
}
