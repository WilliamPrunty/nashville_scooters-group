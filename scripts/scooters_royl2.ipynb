{
 "cells": [
  {
   "cell_type": "code",
   "execution_count": null,
   "id": "cf7b4e0e",
   "metadata": {},
   "outputs": [],
   "source": [
    "from shapely.geometry import Point\n",
    "import pandas as pd\n",
    "import geopandas as gpd\n",
    "import matplotlib.pyplot as plt\n",
    "import folium\n",
    "from folium.plugins import MarkerCluster\n",
    "from folium.plugins import FastMarkerCluster\n",
    "from sqlalchemy import create_engine, text"
   ]
  },
  {
   "cell_type": "code",
   "execution_count": null,
   "id": "4dacda97",
   "metadata": {},
   "outputs": [],
   "source": [
    "pip install psycopg2-binary"
   ]
  },
  {
   "cell_type": "markdown",
   "id": "b6b1d109",
   "metadata": {},
   "source": [
    "# GEOSPATIAL ANALYSIS SECTION"
   ]
  },
  {
   "cell_type": "code",
   "execution_count": null,
   "id": "5efbd056",
   "metadata": {},
   "outputs": [],
   "source": [
    "trips_cleaned = pd.read_csv('../data/tripscleaned.csv') # cleaned scooters trips data from 3/21/23 William\n",
    "print(trips_cleaned.shape)\n",
    "trips_cleaned.head(3)"
   ]
  },
  {
   "cell_type": "code",
   "execution_count": null,
   "id": "cdeedd18",
   "metadata": {},
   "outputs": [],
   "source": [
    "trips_cleaned_starts = trips_cleaned[['companyname', 'triprecordnum', 'sumdid', 'tripduration', 'tripdistance', 'startdate', 'starttime', 'startlatitude', 'startlongitude']]\n",
    "trips_cleaned_starts.head()"
   ]
  },
  {
   "cell_type": "code",
   "execution_count": null,
   "id": "68203dc8",
   "metadata": {},
   "outputs": [],
   "source": [
    "trips_cleaned_ends = trips_cleaned[['companyname', 'triprecordnum', 'sumdid', 'tripduration', 'tripdistance', 'enddate', 'endtime', 'endlatitude', 'endlongitude']]\n",
    "trips_cleaned_ends.head()"
   ]
  },
  {
   "cell_type": "code",
   "execution_count": null,
   "id": "d6ff6706",
   "metadata": {},
   "outputs": [],
   "source": [
    "trips_cleaned_starts['geometry'] = trips_cleaned_starts.apply(lambda x: Point((float(x.startlongitude), \n",
    "                                                         float(x.startlatitude))), \n",
    "                                        axis=1)\n",
    "trips_cleaned_starts.head(3)"
   ]
  },
  {
   "cell_type": "code",
   "execution_count": null,
   "id": "f41d1b9a",
   "metadata": {},
   "outputs": [],
   "source": [
    "trips_cleaned_starts = gpd.GeoDataFrame(trips_cleaned_starts, geometry=gpd.points_from_xy(trips_cleaned_starts.startlongitude, trips_cleaned_starts.startlatitude))\n",
    "trips_cleaned_starts.head()"
   ]
  },
  {
   "cell_type": "code",
   "execution_count": null,
   "id": "d3071640",
   "metadata": {},
   "outputs": [],
   "source": [
    "trips_cleaned_starts = trips_cleaned_starts.set_crs(4326)\n",
    "print(trips_cleaned_starts.crs)"
   ]
  },
  {
   "cell_type": "code",
   "execution_count": null,
   "id": "665f36dd",
   "metadata": {},
   "outputs": [],
   "source": [
    "trips_cleaned_starts.geometry.to_crs('EPSG:4326')\n",
    "print(trips_cleaned_starts.crs)"
   ]
  },
  {
   "cell_type": "code",
   "execution_count": null,
   "id": "b90bbd97",
   "metadata": {},
   "outputs": [],
   "source": [
    "trips_cleaned_ends['geometry'] = trips_cleaned_ends.apply(lambda x: Point((float(x.endlongitude), \n",
    "                                                         float(x.endlatitude))), \n",
    "                                        axis=1)\n",
    "trips_cleaned_ends.head(3)"
   ]
  },
  {
   "cell_type": "code",
   "execution_count": null,
   "id": "3872b50f",
   "metadata": {},
   "outputs": [],
   "source": [
    "trips_cleaned_ends = gpd.GeoDataFrame(trips_cleaned_ends, geometry=gpd.points_from_xy(trips_cleaned_ends.endlongitude, trips_cleaned_ends.endlatitude))\n",
    "trips_cleaned_ends.head()"
   ]
  },
  {
   "cell_type": "code",
   "execution_count": null,
   "id": "f0ddc9b2",
   "metadata": {},
   "outputs": [],
   "source": [
    "trips_cleaned_ends = trips_cleaned_ends.set_crs(4326)\n",
    "print(trips_cleaned_ends.crs)"
   ]
  },
  {
   "cell_type": "code",
   "execution_count": null,
   "id": "fbda4b1b",
   "metadata": {},
   "outputs": [],
   "source": [
    "trips_cleaned_ends.geometry.to_crs('EPSG:4326')\n",
    "print(trips_cleaned_ends.crs)"
   ]
  },
  {
   "cell_type": "code",
   "execution_count": null,
   "id": "9c570be5",
   "metadata": {},
   "outputs": [],
   "source": [
    "zipcodes = gpd.read_file('../data/zipcodes.geojson') # from earlier geospatial exercise\n",
    "print(zipcodes.crs)\n",
    "zipcodes.head( )"
   ]
  },
  {
   "cell_type": "code",
   "execution_count": null,
   "id": "ee2b7374",
   "metadata": {},
   "outputs": [],
   "source": [
    "zipcodes.plot();"
   ]
  },
  {
   "cell_type": "code",
   "execution_count": null,
   "id": "4976426f",
   "metadata": {},
   "outputs": [],
   "source": [
    "leg_kwds = {'title': 'Zipcodes', 'loc': 'upper left', \n",
    "            'bbox_to_anchor': (1, 1.03), 'ncol': 2}\n",
    "\n",
    "zipcodes.plot(column = 'zip', figsize=(10, 10),\n",
    "              edgecolor = 'black',\n",
    "              legend = True, legend_kwds = leg_kwds, \n",
    "              cmap = 'Pastel1')\n",
    "plt.show()"
   ]
  },
  {
   "cell_type": "code",
   "execution_count": null,
   "id": "e1d5e309",
   "metadata": {
    "scrolled": true
   },
   "outputs": [],
   "source": [
    "bus_stops = pd.read_csv('../data/busstops_cleaned.csv') # from ea\n",
    "print(bus_stops.shape)\n",
    "bus_stops.head(3)"
   ]
  },
  {
   "cell_type": "code",
   "execution_count": null,
   "id": "88945dd0",
   "metadata": {},
   "outputs": [],
   "source": [
    "bus_stops['geometry'] = bus_stops.apply(lambda x: Point((float(x.lng), \n",
    "                                                         float(x.lat))), \n",
    "                                        axis=1)\n",
    "bus_stops.head(3)"
   ]
  },
  {
   "cell_type": "code",
   "execution_count": null,
   "id": "ada38fac",
   "metadata": {},
   "outputs": [],
   "source": [
    "bus_geo = gpd.GeoDataFrame(bus_stops, \n",
    "                           crs = zipcodes.crs, \n",
    "                           geometry = bus_stops['geometry'])"
   ]
  },
  {
   "cell_type": "code",
   "execution_count": null,
   "id": "821a638c",
   "metadata": {
    "scrolled": true
   },
   "outputs": [],
   "source": [
    "zipcodes = zipcodes[['zip', 'po_name', 'geometry']]\n",
    "zipcodes"
   ]
  },
  {
   "cell_type": "code",
   "execution_count": null,
   "id": "5952f606",
   "metadata": {},
   "outputs": [],
   "source": [
    "stops_by_zip = gpd.sjoin(bus_geo, zipcodes, op = 'within')"
   ]
  },
  {
   "cell_type": "code",
   "execution_count": null,
   "id": "6741388a",
   "metadata": {},
   "outputs": [],
   "source": [
    "trip_starts_by_zip = gpd.sjoin(trips_cleaned_starts, zipcodes, op = 'within')"
   ]
  },
  {
   "cell_type": "code",
   "execution_count": null,
   "id": "9627b530",
   "metadata": {},
   "outputs": [],
   "source": [
    "trip_ends_by_zip = gpd.sjoin(trips_cleaned_ends, zipcodes, op = 'within')"
   ]
  },
  {
   "cell_type": "code",
   "execution_count": null,
   "id": "2535cc72",
   "metadata": {},
   "outputs": [],
   "source": [
    "trip_starts_by_zip['zip'].value_counts()"
   ]
  },
  {
   "cell_type": "code",
   "execution_count": null,
   "id": "ba73d8cf",
   "metadata": {},
   "outputs": [],
   "source": [
    "trip_ends_by_zip['zip'].value_counts()"
   ]
  },
  {
   "cell_type": "code",
   "execution_count": null,
   "id": "3c67beed",
   "metadata": {
    "scrolled": true
   },
   "outputs": [],
   "source": [
    "stops_in_37207 = stops_by_zip.loc[stops_by_zip['zip'] == '37207']\n",
    "stops_in_37207.shape"
   ]
  },
  {
   "cell_type": "code",
   "execution_count": null,
   "id": "7d92fc4e",
   "metadata": {},
   "outputs": [],
   "source": [
    "trip_starts_in_37207 = trip_starts_by_zip.loc[trip_starts_by_zip['zip'] == '37207']\n",
    "trip_starts_in_37207.shape"
   ]
  },
  {
   "cell_type": "code",
   "execution_count": null,
   "id": "0d439367",
   "metadata": {},
   "outputs": [],
   "source": [
    "trip_ends_in_37207 = trip_ends_by_zip.loc[trip_ends_by_zip['zip'] == '37207']\n",
    "trip_ends_in_37207.shape"
   ]
  },
  {
   "cell_type": "code",
   "execution_count": null,
   "id": "f1d1324a",
   "metadata": {},
   "outputs": [],
   "source": [
    "trip_starts_in_37207 = gpd.GeoDataFrame(trip_starts_in_37207, \n",
    "                           crs = zipcodes.crs, \n",
    "                           geometry = trip_starts_in_37207['geometry'])"
   ]
  },
  {
   "cell_type": "code",
   "execution_count": null,
   "id": "ba2c9e50",
   "metadata": {},
   "outputs": [],
   "source": [
    "trip_ends_in_37207 = gpd.GeoDataFrame(trip_ends_in_37207, \n",
    "                           crs = zipcodes.crs, \n",
    "                           geometry = trip_ends_in_37207['geometry'])"
   ]
  },
  {
   "cell_type": "code",
   "execution_count": null,
   "id": "6f1ac456",
   "metadata": {},
   "outputs": [],
   "source": [
    "polygon37207 = zipcodes.loc[zipcodes['zip'] == '37207']\n",
    "polygon37207.shape"
   ]
  },
  {
   "cell_type": "code",
   "execution_count": null,
   "id": "a63017cf",
   "metadata": {},
   "outputs": [],
   "source": [
    "#fig, ax = matplotlib.subplots()\n",
    "ax = polygon37207.plot(figsize = (8, 10), color = 'lightgreen')\n",
    "stops_in_37207.plot( ax = ax, column = 'route');\n",
    "trip_starts_in_37207.plot( ax = ax, column = 'triprecordnum');\n",
    "plt.show();"
   ]
  },
  {
   "cell_type": "code",
   "execution_count": null,
   "id": "f3fd0795",
   "metadata": {},
   "outputs": [],
   "source": [
    "polygon37207.geometry.centroid"
   ]
  },
  {
   "cell_type": "code",
   "execution_count": null,
   "id": "ef4739f2",
   "metadata": {},
   "outputs": [],
   "source": [
    "#find the center of the larger (more southern) polygon and look at it\n",
    "center = polygon37207.geometry.centroid[42]\n",
    "print(center)"
   ]
  },
  {
   "cell_type": "code",
   "execution_count": null,
   "id": "2b9ad507",
   "metadata": {},
   "outputs": [],
   "source": [
    "#find the center of the larger (more southern) polygon and look at it\n",
    "center = polygon37207.geometry.centroid[42]\n",
    "print(center)"
   ]
  },
  {
   "cell_type": "code",
   "execution_count": null,
   "id": "405d0143",
   "metadata": {},
   "outputs": [],
   "source": [
    "# reverse the order when constructing the array for folium location\n",
    "area_center = [center.y, center.x]\n",
    "\n",
    "# check the order of area_center, the location for our folium map\n",
    "print(area_center)"
   ]
  },
  {
   "cell_type": "code",
   "execution_count": null,
   "id": "492f84af",
   "metadata": {},
   "outputs": [],
   "source": [
    "#create our map of Nashville Zip Code 37207 and show it\n",
    "map_37207 = folium.Map(location =  area_center, zoom_start = 12)\n",
    "map_37207"
   ]
  },
  {
   "cell_type": "code",
   "execution_count": null,
   "id": "9a145bee",
   "metadata": {
    "scrolled": true
   },
   "outputs": [],
   "source": [
    "i = 0\n",
    "for row_index, row_values in stops_in_37207.iterrows():\n",
    "    if i <3: \n",
    "        print('index is', row_index)\n",
    "        print('values are:')\n",
    "        print(' ')\n",
    "        print(row_values)\n",
    "        print('------------------------- ')\n",
    "        i+=1"
   ]
  },
  {
   "cell_type": "code",
   "execution_count": null,
   "id": "7b60f202",
   "metadata": {
    "scrolled": true
   },
   "outputs": [],
   "source": [
    "i = 0\n",
    "for row_index, row_values in trip_starts_in_37207.iterrows():\n",
    "    if i <3: \n",
    "        print('index is', row_index)\n",
    "        print('values are:')\n",
    "        print(' ')\n",
    "        print(row_values)\n",
    "        print('------------------------- ')\n",
    "        i+=1"
   ]
  },
  {
   "cell_type": "code",
   "execution_count": null,
   "id": "46cee1db",
   "metadata": {},
   "outputs": [],
   "source": [
    "cluster_map_37207 = folium.Map(location =  area_center, zoom_start = 12)\n",
    "\n",
    "#create a marker cluster\n",
    "marker_cluster = MarkerCluster().add_to(cluster_map_37207)\n",
    "\n",
    "folium.GeoJson(polygon37207).add_to(cluster_map_37207)\n",
    "\n",
    "# inside the loop add each marker to the cluster\n",
    "for row_index, row_values in stops_in_37207.iterrows():\n",
    "    loc = [row_values['lat'], row_values['lng']]\n",
    "    pop = str(row_values['route'])\n",
    "    icon=folium.Icon(color=\"blue\",icon=\"bus\", prefix='fa')\n",
    "    \n",
    "    marker = folium.Marker(\n",
    "       location = loc, \n",
    "       popup = pop,\n",
    "     icon = icon) \n",
    "    \n",
    "    marker.add_to(marker_cluster)  \n",
    "    \n",
    "for row_index, row_values in trip_starts_in_37207.iterrows():\n",
    "    loc = [row_values['startlatitude'], row_values['startlongitude']]\n",
    "    pop = str(row_values['triprecordnum'])\n",
    "    icon=folium.Icon(color=\"green\",icon=\"scooter\", prefix='fa')\n",
    "    \n",
    "    \n",
    "    marker = folium.Marker(\n",
    "        location = loc, \n",
    "        popup = pop,\n",
    "    icon = icon) \n",
    "    \n",
    "    marker.add_to(marker_cluster)\n",
    "\n",
    "    \n",
    "#save an interactive HTML map by calling .save()\n",
    "cluster_map_37207.save('../maps/trip_starts_cluster37207.html')\n",
    "\n",
    "cluster_map_37207  "
   ]
  },
  {
   "cell_type": "code",
   "execution_count": null,
   "id": "0f577195",
   "metadata": {},
   "outputs": [],
   "source": [
    "trip_ends_cluster_map_37207 = folium.Map(location =  area_center, zoom_start = 12)\n",
    "\n",
    "#create a marker cluster\n",
    "marker_cluster = MarkerCluster().add_to(trip_ends_cluster_map_37207)\n",
    "\n",
    "folium.GeoJson(polygon37207).add_to(trip_ends_cluster_map_37207)\n",
    "\n",
    "# inside the loop add each marker to the cluster\n",
    "for row_index, row_values in stops_in_37207.iterrows():\n",
    "    loc = [row_values['lat'], row_values['lng']]\n",
    "    pop = str(row_values['route'])\n",
    "    icon=folium.Icon(color=\"blue\",icon=\"bus\", prefix='fa')\n",
    "    \n",
    "    marker = folium.Marker(\n",
    "       location = loc, \n",
    "       popup = pop,\n",
    "     icon = icon) \n",
    "    \n",
    "    marker.add_to(marker_cluster)  \n",
    "    \n",
    "for row_index, row_values in trip_ends_in_37207.iterrows():\n",
    "    loc = [row_values['endlatitude'], row_values['endlongitude']]\n",
    "    pop = str(row_values['triprecordnum'])\n",
    "    icon=folium.Icon(color=\"red\",icon=\"scooter\", prefix='fa')\n",
    "    \n",
    "    \n",
    "    marker = folium.Marker(\n",
    "        location = loc, \n",
    "        popup = pop,\n",
    "    icon = icon) \n",
    "    \n",
    "    marker.add_to(marker_cluster)\n",
    "\n",
    "    \n",
    "#save an interactive HTML map by calling .save()\n",
    "trip_ends_cluster_map_37207.save('../maps/trip_ends_cluster37207.html')\n",
    "\n",
    "trip_ends_cluster_map_37207  "
   ]
  },
  {
   "cell_type": "markdown",
   "id": "219258f3",
   "metadata": {},
   "source": [
    "## ZIPCODE - 37201"
   ]
  },
  {
   "cell_type": "code",
   "execution_count": null,
   "id": "b59c606f",
   "metadata": {},
   "outputs": [],
   "source": [
    "stops_in_37201 = stops_by_zip.loc[stops_by_zip['zip'] == '37201']\n",
    "stops_in_37201.shape"
   ]
  },
  {
   "cell_type": "code",
   "execution_count": null,
   "id": "5046a8b3",
   "metadata": {},
   "outputs": [],
   "source": [
    "trip_starts_in_37201 = trip_starts_by_zip.loc[trip_starts_by_zip['zip'] == '37201']\n",
    "trip_starts_in_37201.shape"
   ]
  },
  {
   "cell_type": "code",
   "execution_count": null,
   "id": "a8c7fe71",
   "metadata": {},
   "outputs": [],
   "source": [
    "trip_ends_in_37201 = trip_ends_by_zip.loc[trip_ends_by_zip['zip'] == '37201']\n",
    "trip_ends_in_37201.shape"
   ]
  },
  {
   "cell_type": "code",
   "execution_count": null,
   "id": "76740315",
   "metadata": {},
   "outputs": [],
   "source": [
    "trip_starts_in_37201 = gpd.GeoDataFrame(trip_starts_in_37201, \n",
    "                           crs = zipcodes.crs, \n",
    "                           geometry = trip_starts_in_37201['geometry'])"
   ]
  },
  {
   "cell_type": "code",
   "execution_count": null,
   "id": "5c1e54e1",
   "metadata": {},
   "outputs": [],
   "source": [
    "trip_ends_in_37201 = gpd.GeoDataFrame(trip_ends_in_37201, \n",
    "                           crs = zipcodes.crs, \n",
    "                           geometry = trip_ends_in_37201['geometry'])"
   ]
  },
  {
   "cell_type": "code",
   "execution_count": null,
   "id": "71311bcb",
   "metadata": {},
   "outputs": [],
   "source": [
    "polygon37201 = zipcodes.loc[zipcodes['zip'] == '37201']\n",
    "polygon37201.shape"
   ]
  },
  {
   "cell_type": "code",
   "execution_count": null,
   "id": "58f82568",
   "metadata": {},
   "outputs": [],
   "source": [
    "polygon37201.geometry.centroid"
   ]
  },
  {
   "cell_type": "code",
   "execution_count": null,
   "id": "a9e6de81",
   "metadata": {},
   "outputs": [],
   "source": [
    "center_37201 = polygon37201.geometry.centroid\n",
    "print(center_37201)"
   ]
  },
  {
   "cell_type": "code",
   "execution_count": null,
   "id": "7ce21819",
   "metadata": {},
   "outputs": [],
   "source": [
    "# reverse the order when constructing the array for folium location\n",
    "area_center_37201 = [center_37201.y, center_37201.x]\n",
    "\n",
    "# check the order of area_center, the location for our folium map\n",
    "print(area_center_37201)"
   ]
  },
  {
   "cell_type": "code",
   "execution_count": null,
   "id": "19f3c5cb",
   "metadata": {},
   "outputs": [],
   "source": [
    "#create our map of Nashville Zip Code 37201 and show it\n",
    "map_37201 = folium.Map(location =  area_center, zoom_start = 12)\n",
    "map_37201"
   ]
  },
  {
   "cell_type": "code",
   "execution_count": null,
   "id": "632b4370",
   "metadata": {},
   "outputs": [],
   "source": [
    "trip_starts_cluster_map_37201 = folium.Map(location =  area_center_37201, zoom_start = 12)\n",
    "\n",
    "#create a marker cluster\n",
    "marker_cluster = MarkerCluster().add_to(trip_starts_cluster_map_37201)\n",
    "\n",
    "folium.GeoJson(polygon37201).add_to(trip_starts_cluster_map_37201)\n",
    "\n",
    "# inside the loop add each marker to the cluster\n",
    "for row_index, row_values in stops_in_37201.iterrows():\n",
    "    loc = [row_values['lat'], row_values['lng']]\n",
    "    pop = str(row_values['route'])\n",
    "    icon=folium.Icon(color=\"blue\",icon=\"bus\", prefix='fa')\n",
    "    \n",
    "    marker = folium.Marker(\n",
    "       location = loc, \n",
    "       popup = pop,\n",
    "     icon = icon) \n",
    "    \n",
    "    marker.add_to(marker_cluster)  \n",
    "    \n",
    "for row_index, row_values in trip_starts_in_37201.iterrows():\n",
    "    loc = [row_values['startlatitude'], row_values['startlongitude']]\n",
    "    pop = str(row_values['triprecordnum'])\n",
    "    icon=folium.Icon(color=\"green\",icon=\"scooter\", prefix='fa')\n",
    "    \n",
    "    \n",
    "    marker = folium.Marker(\n",
    "        location = loc, \n",
    "        popup = pop,\n",
    "    icon = icon) \n",
    "    \n",
    "    marker.add_to(marker_cluster)\n",
    "\n",
    "    \n",
    "#save an interactive HTML map by calling .save()\n",
    "trip_starts_cluster_map_37201.save('../maps/trip_starts_cluster37201.html')\n",
    "\n",
    "trip_starts_cluster_map_37201  "
   ]
  },
  {
   "cell_type": "code",
   "execution_count": null,
   "id": "b610498b",
   "metadata": {},
   "outputs": [],
   "source": [
    "trip_ends_cluster_map_37201 = folium.Map(location =  area_center_37201, zoom_start = 12)\n",
    "\n",
    "#create a marker cluster\n",
    "marker_cluster = MarkerCluster().add_to(trip_ends_cluster_map_37201)\n",
    "\n",
    "folium.GeoJson(polygon37201).add_to(trip_ends_cluster_map_37201)\n",
    "\n",
    "# inside the loop add each marker to the cluster\n",
    "for row_index, row_values in stops_in_37201.iterrows():\n",
    "    loc = [row_values['lat'], row_values['lng']]\n",
    "    pop = str(row_values['route'])\n",
    "    icon=folium.Icon(color=\"blue\",icon=\"bus\", prefix='fa')\n",
    "    \n",
    "    marker = folium.Marker(\n",
    "       location = loc, \n",
    "       popup = pop,\n",
    "     icon = icon) \n",
    "    \n",
    "    marker.add_to(marker_cluster)  \n",
    "    \n",
    "for row_index, row_values in trip_ends_in_37201.iterrows():\n",
    "    loc = [row_values['endlatitude'], row_values['endlongitude']]\n",
    "    pop = str(row_values['triprecordnum'])\n",
    "    icon=folium.Icon(color=\"red\",icon=\"scooter\", prefix='fa')\n",
    "    \n",
    "    \n",
    "    marker = folium.Marker(\n",
    "        location = loc, \n",
    "        popup = pop,\n",
    "    icon = icon) \n",
    "    \n",
    "    marker.add_to(marker_cluster)\n",
    "\n",
    "    \n",
    "#save an interactive HTML map by calling .save()\n",
    "trip_ends_cluster_map_37201.save('../maps/trip_ends_cluster37201.html')\n",
    "\n",
    "trip_ends_cluster_map_37201  "
   ]
  },
  {
   "cell_type": "markdown",
   "id": "49bebcfe",
   "metadata": {},
   "source": [
    "# ZIPCODE - 37219"
   ]
  },
  {
   "cell_type": "code",
   "execution_count": null,
   "id": "233d17e7",
   "metadata": {},
   "outputs": [],
   "source": [
    "stops_in_37219 = stops_by_zip.loc[stops_by_zip['zip'] == '37219']\n",
    "stops_in_37219.shape"
   ]
  },
  {
   "cell_type": "code",
   "execution_count": null,
   "id": "e5008ef2",
   "metadata": {},
   "outputs": [],
   "source": [
    "trip_starts_in_37219 = trip_starts_by_zip.loc[trip_starts_by_zip['zip'] == '37219']\n",
    "trip_starts_in_37219.shape"
   ]
  },
  {
   "cell_type": "code",
   "execution_count": null,
   "id": "3972bb0f",
   "metadata": {},
   "outputs": [],
   "source": [
    "trip_ends_in_37219 = trip_ends_by_zip.loc[trip_ends_by_zip['zip'] == '37219']\n",
    "trip_ends_in_37219.shape"
   ]
  },
  {
   "cell_type": "code",
   "execution_count": null,
   "id": "5c63bd17",
   "metadata": {},
   "outputs": [],
   "source": [
    "trip_starts_in_37219 = gpd.GeoDataFrame(trip_starts_in_37219, \n",
    "                           crs = zipcodes.crs, \n",
    "                           geometry = trip_starts_in_37219['geometry'])"
   ]
  },
  {
   "cell_type": "code",
   "execution_count": null,
   "id": "c4c2695c",
   "metadata": {},
   "outputs": [],
   "source": [
    "trip_ends_in_37219 = gpd.GeoDataFrame(trip_ends_in_37219, \n",
    "                           crs = zipcodes.crs, \n",
    "                           geometry = trip_ends_in_37219['geometry'])"
   ]
  },
  {
   "cell_type": "code",
   "execution_count": null,
   "id": "da6fe380",
   "metadata": {},
   "outputs": [],
   "source": [
    "polygon37219 = zipcodes.loc[zipcodes['zip'] == '37219']\n",
    "polygon37219.shape"
   ]
  },
  {
   "cell_type": "code",
   "execution_count": null,
   "id": "43084872",
   "metadata": {
    "scrolled": true
   },
   "outputs": [],
   "source": [
    "polygon37219.geometry.centroid"
   ]
  },
  {
   "cell_type": "code",
   "execution_count": null,
   "id": "541f2218",
   "metadata": {},
   "outputs": [],
   "source": [
    "center_37219 = polygon37219.geometry.centroid\n",
    "print(center_37219)"
   ]
  },
  {
   "cell_type": "code",
   "execution_count": null,
   "id": "81ba0509",
   "metadata": {},
   "outputs": [],
   "source": [
    "# reverse the order when constructing the array for folium location\n",
    "area_center_37219 = [center_37219.y, center_37219.x]\n",
    "\n",
    "# check the order of area_center, the location for our folium map\n",
    "print(area_center_37219)"
   ]
  },
  {
   "cell_type": "code",
   "execution_count": null,
   "id": "cfa3bfb1",
   "metadata": {
    "scrolled": true
   },
   "outputs": [],
   "source": [
    "#create our map of Nashville Zip Code 37219 and show it\n",
    "map_37219 = folium.Map(location =  area_center_37219, zoom_start = 12)\n",
    "map_37219"
   ]
  },
  {
   "cell_type": "code",
   "execution_count": null,
   "id": "ce8fba10",
   "metadata": {
    "scrolled": true
   },
   "outputs": [],
   "source": [
    "trip_starts_cluster_map_37219 = folium.Map(location =  area_center_37219, zoom_start = 12)\n",
    "\n",
    "#create a marker cluster\n",
    "marker_cluster = MarkerCluster().add_to(trip_starts_cluster_map_37219)\n",
    "\n",
    "folium.GeoJson(polygon37219).add_to(trip_starts_cluster_map_37219)\n",
    "\n",
    "# inside the loop add each marker to the cluster\n",
    "for row_index, row_values in stops_in_37219.iterrows():\n",
    "    loc = [row_values['lat'], row_values['lng']]\n",
    "    pop = str(row_values['route'])\n",
    "    icon=folium.Icon(color=\"blue\",icon=\"bus\", prefix='fa')\n",
    "    \n",
    "    marker = folium.Marker(\n",
    "       location = loc, \n",
    "       popup = pop,\n",
    "     icon = icon) \n",
    "    \n",
    "    marker.add_to(marker_cluster)  \n",
    "    \n",
    "for row_index, row_values in trip_starts_in_37219.iterrows():\n",
    "    loc = [row_values['startlatitude'], row_values['startlongitude']]\n",
    "    pop = str(row_values['triprecordnum'])\n",
    "    icon=folium.Icon(color=\"green\",icon=\"scooter\", prefix='fa')\n",
    "    \n",
    "    \n",
    "    marker = folium.Marker(\n",
    "        location = loc, \n",
    "        popup = pop,\n",
    "    icon = icon) \n",
    "    \n",
    "    marker.add_to(marker_cluster)\n",
    "\n",
    "    \n",
    "#save an interactive HTML map by calling .save()\n",
    "trip_starts_cluster_map_37219.save('../maps/trip_starts_cluster37219.html')\n",
    "\n",
    "trip_starts_cluster_map_37219 "
   ]
  },
  {
   "cell_type": "code",
   "execution_count": null,
   "id": "8d922ee5",
   "metadata": {
    "scrolled": true
   },
   "outputs": [],
   "source": [
    "trip_ends_cluster_map_37219 = folium.Map(location =  area_center_37219, zoom_start = 12)\n",
    "\n",
    "#create a marker cluster\n",
    "marker_cluster = MarkerCluster().add_to(trip_ends_cluster_map_37219)\n",
    "\n",
    "folium.GeoJson(polygon37219).add_to(trip_ends_cluster_map_37219)\n",
    "\n",
    "# inside the loop add each marker to the cluster\n",
    "for row_index, row_values in stops_in_37219.iterrows():\n",
    "    loc = [row_values['lat'], row_values['lng']]\n",
    "    pop = str(row_values['route'])\n",
    "    icon=folium.Icon(color=\"blue\",icon=\"bus\", prefix='fa')\n",
    "    \n",
    "    marker = folium.Marker(\n",
    "       location = loc, \n",
    "       popup = pop,\n",
    "     icon = icon) \n",
    "    \n",
    "    marker.add_to(marker_cluster)  \n",
    "    \n",
    "for row_index, row_values in trip_ends_in_37219.iterrows():\n",
    "    loc = [row_values['endlatitude'], row_values['endlongitude']]\n",
    "    pop = str(row_values['triprecordnum'])\n",
    "    icon=folium.Icon(color=\"red\",icon=\"scooter\", prefix='fa')\n",
    "    \n",
    "    \n",
    "    marker = folium.Marker(\n",
    "        location = loc, \n",
    "        popup = pop,\n",
    "    icon = icon) \n",
    "    \n",
    "    marker.add_to(marker_cluster)\n",
    "\n",
    "    \n",
    "#save an interactive HTML map by calling .save()\n",
    "trip_ends_cluster_map_37219.save('../maps/trip_ends_cluster37219.html')\n",
    "\n",
    "trip_ends_cluster_map_37219  "
   ]
  },
  {
   "cell_type": "markdown",
   "id": "70ef8232",
   "metadata": {},
   "source": [
    "# ZIPCODE - 37212"
   ]
  },
  {
   "cell_type": "code",
   "execution_count": null,
   "id": "16e26166",
   "metadata": {},
   "outputs": [],
   "source": [
    "stops_in_37212 = stops_by_zip.loc[stops_by_zip['zip'] == '37212']\n",
    "stops_in_37212.shape"
   ]
  },
  {
   "cell_type": "code",
   "execution_count": null,
   "id": "7401804f",
   "metadata": {},
   "outputs": [],
   "source": [
    "trip_starts_in_37212 = trip_starts_by_zip.loc[trip_starts_by_zip['zip'] == '37212']\n",
    "trip_starts_in_37212.shape"
   ]
  },
  {
   "cell_type": "code",
   "execution_count": null,
   "id": "56987932",
   "metadata": {},
   "outputs": [],
   "source": [
    "trip_ends_in_37212 = trip_ends_by_zip.loc[trip_ends_by_zip['zip'] == '37212']\n",
    "trip_ends_in_37212.shape"
   ]
  },
  {
   "cell_type": "code",
   "execution_count": null,
   "id": "998c013e",
   "metadata": {},
   "outputs": [],
   "source": [
    "trip_starts_in_37212 = gpd.GeoDataFrame(trip_starts_in_37212, \n",
    "                           crs = zipcodes.crs, \n",
    "                           geometry = trip_starts_in_37212['geometry'])"
   ]
  },
  {
   "cell_type": "code",
   "execution_count": null,
   "id": "7c203375",
   "metadata": {},
   "outputs": [],
   "source": [
    "trip_ends_in_37212 = gpd.GeoDataFrame(trip_ends_in_37212, \n",
    "                           crs = zipcodes.crs, \n",
    "                           geometry = trip_ends_in_37212['geometry'])"
   ]
  },
  {
   "cell_type": "code",
   "execution_count": null,
   "id": "0e2fe6de",
   "metadata": {},
   "outputs": [],
   "source": [
    "polygon37212 = zipcodes.loc[zipcodes['zip'] == '37212']\n",
    "polygon37212.shape"
   ]
  },
  {
   "cell_type": "code",
   "execution_count": null,
   "id": "37cdeda3",
   "metadata": {
    "scrolled": true
   },
   "outputs": [],
   "source": [
    "polygon37212.geometry.centroid"
   ]
  },
  {
   "cell_type": "code",
   "execution_count": null,
   "id": "770aa83e",
   "metadata": {},
   "outputs": [],
   "source": [
    "center_37212 = polygon37212.geometry.centroid\n",
    "print(center_37212)"
   ]
  },
  {
   "cell_type": "code",
   "execution_count": null,
   "id": "b74cde63",
   "metadata": {},
   "outputs": [],
   "source": [
    "# reverse the order when constructing the array for folium location\n",
    "area_center_37212 = [center_37212.y, center_37212.x]\n",
    "\n",
    "# check the order of area_center, the location for our folium map\n",
    "print(area_center_37212)"
   ]
  },
  {
   "cell_type": "code",
   "execution_count": null,
   "id": "d9995b5a",
   "metadata": {
    "scrolled": true
   },
   "outputs": [],
   "source": [
    "#create our map of Nashville Zip Code 37219 and show it\n",
    "map_37212 = folium.Map(location =  area_center_37212, zoom_start = 12)\n",
    "map_37212"
   ]
  },
  {
   "cell_type": "code",
   "execution_count": null,
   "id": "4b5e75dd",
   "metadata": {},
   "outputs": [],
   "source": [
    "trip_starts_cluster_map_37212 = folium.Map(location =  area_center_37212, zoom_start = 12)\n",
    "\n",
    "#create a marker cluster\n",
    "marker_cluster = MarkerCluster().add_to(trip_starts_cluster_map_37212)\n",
    "\n",
    "folium.GeoJson(polygon37212).add_to(trip_starts_cluster_map_37212)\n",
    "\n",
    "# inside the loop add each marker to the cluster\n",
    "for row_index, row_values in stops_in_37212.iterrows():\n",
    "    loc = [row_values['lat'], row_values['lng']]\n",
    "    pop = str(row_values['route'])\n",
    "    icon=folium.Icon(color=\"blue\",icon=\"bus\", prefix='fa')\n",
    "    \n",
    "    marker = folium.Marker(\n",
    "       location = loc, \n",
    "       popup = pop,\n",
    "     icon = icon) \n",
    "    \n",
    "    marker.add_to(marker_cluster)  \n",
    "    \n",
    "for row_index, row_values in trip_starts_in_37212.iterrows():\n",
    "    loc = [row_values['startlatitude'], row_values['startlongitude']]\n",
    "    pop = str(row_values['triprecordnum'])\n",
    "    icon=folium.Icon(color=\"green\",icon=\"scooter\", prefix='fa')\n",
    "    \n",
    "    \n",
    "    marker = folium.Marker(\n",
    "        location = loc, \n",
    "        popup = pop,\n",
    "    icon = icon) \n",
    "    \n",
    "    marker.add_to(marker_cluster)\n",
    "\n",
    "    \n",
    "#save an interactive HTML map by calling .save()\n",
    "trip_starts_cluster_map_37212.save('../maps/trip_starts_cluster37212.html')\n",
    "\n",
    "trip_starts_cluster_map_37212 "
   ]
  },
  {
   "cell_type": "code",
   "execution_count": null,
   "id": "d8fcaad3",
   "metadata": {},
   "outputs": [],
   "source": [
    "trip_ends_cluster_map_37212 = folium.Map(location =  area_center_37212, zoom_start = 12)\n",
    "\n",
    "#create a marker cluster\n",
    "marker_cluster = MarkerCluster().add_to(trip_ends_cluster_map_37212)\n",
    "\n",
    "folium.GeoJson(polygon37212).add_to(trip_ends_cluster_map_37212)\n",
    "\n",
    "# inside the loop add each marker to the cluster\n",
    "for row_index, row_values in stops_in_37212.iterrows():\n",
    "    loc = [row_values['lat'], row_values['lng']]\n",
    "    pop = str(row_values['route'])\n",
    "    icon=folium.Icon(color=\"blue\",icon=\"bus\", prefix='fa')\n",
    "    \n",
    "    marker = folium.Marker(\n",
    "       location = loc, \n",
    "       popup = pop,\n",
    "     icon = icon) \n",
    "    \n",
    "    marker.add_to(marker_cluster)  \n",
    "    \n",
    "for row_index, row_values in trip_ends_in_37212.iterrows():\n",
    "    loc = [row_values['endlatitude'], row_values['endlongitude']]\n",
    "    pop = str(row_values['triprecordnum'])\n",
    "    icon=folium.Icon(color=\"red\",icon=\"scooter\", prefix='fa')\n",
    "    \n",
    "    \n",
    "    marker = folium.Marker(\n",
    "        location = loc, \n",
    "        popup = pop,\n",
    "    icon = icon) \n",
    "    \n",
    "    marker.add_to(marker_cluster)\n",
    "\n",
    "    \n",
    "#save an interactive HTML map by calling .save()\n",
    "trip_ends_cluster_map_37212.save('../maps/trip_ends_cluster37212.html')\n",
    "\n",
    "trip_ends_cluster_map_37212  "
   ]
  },
  {
   "cell_type": "markdown",
   "id": "0c9e7459",
   "metadata": {},
   "source": [
    "# ZIPCODE - 37208"
   ]
  },
  {
   "cell_type": "code",
   "execution_count": null,
   "id": "04a02a38",
   "metadata": {},
   "outputs": [],
   "source": [
    "stops_in_37208 = stops_by_zip.loc[stops_by_zip['zip'] == '37208']\n",
    "stops_in_37208.shape"
   ]
  },
  {
   "cell_type": "code",
   "execution_count": null,
   "id": "65d82c94",
   "metadata": {},
   "outputs": [],
   "source": [
    "trip_starts_in_37208 = trip_starts_by_zip.loc[trip_starts_by_zip['zip'] == '37208']\n",
    "trip_starts_in_37208.shape"
   ]
  },
  {
   "cell_type": "code",
   "execution_count": null,
   "id": "41f3f43e",
   "metadata": {},
   "outputs": [],
   "source": [
    "trip_ends_in_37208 = trip_ends_by_zip.loc[trip_ends_by_zip['zip'] == '37208']\n",
    "trip_ends_in_37208.shape"
   ]
  },
  {
   "cell_type": "code",
   "execution_count": null,
   "id": "0191420b",
   "metadata": {},
   "outputs": [],
   "source": [
    "trip_starts_in_37208 = gpd.GeoDataFrame(trip_starts_in_37208, \n",
    "                           crs = zipcodes.crs, \n",
    "                           geometry = trip_starts_in_37208['geometry'])"
   ]
  },
  {
   "cell_type": "code",
   "execution_count": null,
   "id": "79d7bd2e",
   "metadata": {},
   "outputs": [],
   "source": [
    "trip_ends_in_37208 = gpd.GeoDataFrame(trip_ends_in_37208, \n",
    "                           crs = zipcodes.crs, \n",
    "                           geometry = trip_ends_in_37208['geometry'])"
   ]
  },
  {
   "cell_type": "code",
   "execution_count": null,
   "id": "199e344f",
   "metadata": {},
   "outputs": [],
   "source": [
    "polygon37208 = zipcodes.loc[zipcodes['zip'] == '37208']\n",
    "polygon37208.shape"
   ]
  },
  {
   "cell_type": "code",
   "execution_count": null,
   "id": "1bf86936",
   "metadata": {
    "scrolled": true
   },
   "outputs": [],
   "source": [
    "polygon37208.geometry.centroid"
   ]
  },
  {
   "cell_type": "code",
   "execution_count": null,
   "id": "79dd1031",
   "metadata": {},
   "outputs": [],
   "source": [
    "center_37208 = polygon37208.geometry.centroid\n",
    "print(center_37208)"
   ]
  },
  {
   "cell_type": "code",
   "execution_count": null,
   "id": "9fc3769b",
   "metadata": {},
   "outputs": [],
   "source": [
    "# reverse the order when constructing the array for folium location\n",
    "area_center_37208 = [center_37208.y, center_37208.x]\n",
    "\n",
    "# check the order of area_center, the location for our folium map\n",
    "print(area_center_37208)"
   ]
  },
  {
   "cell_type": "code",
   "execution_count": null,
   "id": "346396f4",
   "metadata": {
    "scrolled": true
   },
   "outputs": [],
   "source": [
    "#create our map of Nashville Zip Code 37219 and show it\n",
    "map_37208 = folium.Map(location =  area_center_37208, zoom_start = 12)\n",
    "map_37208"
   ]
  },
  {
   "cell_type": "code",
   "execution_count": null,
   "id": "1233b157",
   "metadata": {},
   "outputs": [],
   "source": [
    "trip_starts_cluster_map_37208 = folium.Map(location =  area_center_37208, zoom_start = 12)\n",
    "\n",
    "#create a marker cluster\n",
    "marker_cluster = MarkerCluster().add_to(trip_starts_cluster_map_37208)\n",
    "\n",
    "folium.GeoJson(polygon37208).add_to(trip_starts_cluster_map_37208)\n",
    "\n",
    "# inside the loop add each marker to the cluster\n",
    "for row_index, row_values in stops_in_37208.iterrows():\n",
    "    loc = [row_values['lat'], row_values['lng']]\n",
    "    pop = str(row_values['route'])\n",
    "    icon=folium.Icon(color=\"blue\",icon=\"bus\", prefix='fa')\n",
    "    \n",
    "    marker = folium.Marker(\n",
    "       location = loc, \n",
    "       popup = pop,\n",
    "     icon = icon) \n",
    "    \n",
    "    marker.add_to(marker_cluster)  \n",
    "    \n",
    "for row_index, row_values in trip_starts_in_37208.iterrows():\n",
    "    loc = [row_values['startlatitude'], row_values['startlongitude']]\n",
    "    pop = str(row_values['triprecordnum'])\n",
    "    icon=folium.Icon(color=\"green\",icon=\"scooter\", prefix='fa')\n",
    "    \n",
    "    \n",
    "    marker = folium.Marker(\n",
    "        location = loc, \n",
    "        popup = pop,\n",
    "    icon = icon) \n",
    "    \n",
    "    marker.add_to(marker_cluster)\n",
    "\n",
    "    \n",
    "#save an interactive HTML map by calling .save()\n",
    "trip_starts_cluster_map_37208.save('../maps/trip_starts_cluster37208.html')\n",
    "\n",
    "trip_starts_cluster_map_37208"
   ]
  },
  {
   "cell_type": "code",
   "execution_count": null,
   "id": "ad5feeca",
   "metadata": {},
   "outputs": [],
   "source": [
    "trip_ends_cluster_map_37208 = folium.Map(location =  area_center_37208, zoom_start = 12)\n",
    "\n",
    "#create a marker cluster\n",
    "marker_cluster = MarkerCluster().add_to(trip_ends_cluster_map_37208)\n",
    "\n",
    "folium.GeoJson(polygon37208).add_to(trip_ends_cluster_map_37208)\n",
    "\n",
    "# inside the loop add each marker to the cluster\n",
    "for row_index, row_values in stops_in_37208.iterrows():\n",
    "    loc = [row_values['lat'], row_values['lng']]\n",
    "    pop = str(row_values['route'])\n",
    "    icon=folium.Icon(color=\"blue\",icon=\"bus\", prefix='fa')\n",
    "    \n",
    "    marker = folium.Marker(\n",
    "       location = loc, \n",
    "       popup = pop,\n",
    "     icon = icon) \n",
    "    \n",
    "    marker.add_to(marker_cluster)  \n",
    "    \n",
    "for row_index, row_values in trip_ends_in_37208.iterrows():\n",
    "    loc = [row_values['endlatitude'], row_values['endlongitude']]\n",
    "    pop = str(row_values['triprecordnum'])\n",
    "    icon=folium.Icon(color=\"red\",icon=\"scooter\", prefix='fa')\n",
    "    \n",
    "    \n",
    "    marker = folium.Marker(\n",
    "        location = loc, \n",
    "        popup = pop,\n",
    "    icon = icon) \n",
    "    \n",
    "    marker.add_to(marker_cluster)\n",
    "\n",
    "    \n",
    "#save an interactive HTML map by calling .save()\n",
    "trip_ends_cluster_map_37208.save('../maps/trip_ends_cluster37208.html')\n",
    "\n",
    "trip_ends_cluster_map_37208"
   ]
  },
  {
   "cell_type": "markdown",
   "id": "84173517",
   "metadata": {},
   "source": [
    "# ZIPCODE = 37203"
   ]
  },
  {
   "cell_type": "code",
   "execution_count": null,
   "id": "b29e3a09",
   "metadata": {},
   "outputs": [],
   "source": [
    "stops_in_37203 = stops_by_zip.loc[stops_by_zip['zip'] == '37203']\n",
    "stops_in_37203.shape"
   ]
  },
  {
   "cell_type": "code",
   "execution_count": null,
   "id": "dfc1e1b3",
   "metadata": {},
   "outputs": [],
   "source": [
    "trip_starts_in_37203 = trip_starts_by_zip.loc[trip_starts_by_zip['zip'] == '37203']\n",
    "trip_starts_in_37203.shape"
   ]
  },
  {
   "cell_type": "code",
   "execution_count": null,
   "id": "acda4a76",
   "metadata": {},
   "outputs": [],
   "source": [
    "trip_ends_in_37203 = trip_ends_by_zip.loc[trip_ends_by_zip['zip'] == '37203']\n",
    "trip_ends_in_37203.shape"
   ]
  },
  {
   "cell_type": "code",
   "execution_count": null,
   "id": "e048c790",
   "metadata": {},
   "outputs": [],
   "source": [
    "trip_starts_in_37203 = gpd.GeoDataFrame(trip_starts_in_37203, \n",
    "                           crs = zipcodes.crs, \n",
    "                           geometry = trip_starts_in_37203['geometry'])"
   ]
  },
  {
   "cell_type": "code",
   "execution_count": null,
   "id": "657fea96",
   "metadata": {},
   "outputs": [],
   "source": [
    "trip_ends_in_37203 = gpd.GeoDataFrame(trip_ends_in_37203, \n",
    "                           crs = zipcodes.crs, \n",
    "                           geometry = trip_ends_in_37203['geometry'])"
   ]
  },
  {
   "cell_type": "code",
   "execution_count": null,
   "id": "298d220c",
   "metadata": {},
   "outputs": [],
   "source": [
    "polygon37203 = zipcodes.loc[zipcodes['zip'] == '37203']\n",
    "polygon37203.shape"
   ]
  },
  {
   "cell_type": "code",
   "execution_count": null,
   "id": "140f80d1",
   "metadata": {
    "scrolled": true
   },
   "outputs": [],
   "source": [
    "polygon37203.geometry.centroid"
   ]
  },
  {
   "cell_type": "code",
   "execution_count": null,
   "id": "17088d9e",
   "metadata": {},
   "outputs": [],
   "source": [
    "center_37203 = polygon37203.geometry.centroid\n",
    "print(center_37208)"
   ]
  },
  {
   "cell_type": "code",
   "execution_count": null,
   "id": "0dc1c6e3",
   "metadata": {},
   "outputs": [],
   "source": [
    "# reverse the order when constructing the array for folium location\n",
    "area_center_37203 = [center_37203.y, center_37203.x]\n",
    "\n",
    "# check the order of area_center, the location for our folium map\n",
    "print(area_center_37203)"
   ]
  },
  {
   "cell_type": "code",
   "execution_count": null,
   "id": "354fe58e",
   "metadata": {
    "scrolled": true
   },
   "outputs": [],
   "source": [
    "#create our map of Nashville Zip Code 37219 and show it\n",
    "map_37203 = folium.Map(location =  area_center_37203, zoom_start = 12)\n",
    "map_37203"
   ]
  },
  {
   "cell_type": "code",
   "execution_count": null,
   "id": "a4d5cc3d",
   "metadata": {},
   "outputs": [],
   "source": [
    "trip_starts_cluster_map_37203 = folium.Map(location =  area_center_37203, zoom_start = 12)\n",
    "\n",
    "#create a marker cluster\n",
    "marker_cluster = MarkerCluster().add_to(trip_starts_cluster_map_37203)\n",
    "\n",
    "folium.GeoJson(polygon37203).add_to(trip_starts_cluster_map_37203)\n",
    "\n",
    "# inside the loop add each marker to the cluster\n",
    "for row_index, row_values in stops_in_37203.iterrows():\n",
    "    loc = [row_values['lat'], row_values['lng']]\n",
    "    pop = str(row_values['route'])\n",
    "    icon=folium.Icon(color=\"blue\",icon=\"bus\", prefix='fa')\n",
    "    \n",
    "    marker = folium.Marker(\n",
    "       location = loc, \n",
    "       popup = pop,\n",
    "     icon = icon) \n",
    "    \n",
    "    marker.add_to(marker_cluster)  \n",
    "    \n",
    "for row_index, row_values in trip_starts_in_37203.iterrows():\n",
    "    loc = [row_values['startlatitude'], row_values['startlongitude']]\n",
    "    pop = str(row_values['triprecordnum'])\n",
    "    icon=folium.Icon(color=\"green\",icon=\"scooter\", prefix='fa')\n",
    "    \n",
    "    \n",
    "    marker = folium.Marker(\n",
    "        location = loc, \n",
    "        popup = pop,\n",
    "    icon = icon) \n",
    "    \n",
    "    marker.add_to(marker_cluster)\n",
    "\n",
    "    \n",
    "#save an interactive HTML map by calling .save()\n",
    "trip_starts_cluster_map_37203.save('../maps/trip_starts_cluster37203.html')\n",
    "\n",
    "trip_starts_cluster_map_37203"
   ]
  },
  {
   "cell_type": "code",
   "execution_count": null,
   "id": "2563daf6",
   "metadata": {},
   "outputs": [],
   "source": [
    "trip_ends_cluster_map_37203 = folium.Map(location =  area_center_37203, zoom_start = 12)\n",
    "\n",
    "#create a marker cluster\n",
    "marker_cluster = MarkerCluster().add_to(trip_ends_cluster_map_37203)\n",
    "\n",
    "folium.GeoJson(polygon37203).add_to(trip_ends_cluster_map_37203)\n",
    "\n",
    "# inside the loop add each marker to the cluster\n",
    "for row_index, row_values in stops_in_37203.iterrows():\n",
    "    loc = [row_values['lat'], row_values['lng']]\n",
    "    pop = str(row_values['route'])\n",
    "    icon=folium.Icon(color=\"blue\",icon=\"bus\", prefix='fa')\n",
    "    \n",
    "    marker = folium.Marker(\n",
    "       location = loc, \n",
    "       popup = pop,\n",
    "     icon = icon) \n",
    "    \n",
    "    marker.add_to(marker_cluster)  \n",
    "    \n",
    "for row_index, row_values in trip_ends_in_37203.iterrows():\n",
    "    loc = [row_values['endlatitude'], row_values['endlongitude']]\n",
    "    pop = str(row_values['triprecordnum'])\n",
    "    icon=folium.Icon(color=\"red\",icon=\"scooter\", prefix='fa')\n",
    "    \n",
    "    \n",
    "    marker = folium.Marker(\n",
    "        location = loc, \n",
    "        popup = pop,\n",
    "    icon = icon) \n",
    "    \n",
    "    marker.add_to(marker_cluster)\n",
    "\n",
    "    \n",
    "#save an interactive HTML map by calling .save()\n",
    "trip_ends_cluster_map_37203.save('../maps/trip_ends_cluster37203.html')\n",
    "\n",
    "trip_ends_cluster_map_37203"
   ]
  },
  {
   "cell_type": "code",
   "execution_count": null,
   "id": "d018bbcf",
   "metadata": {},
   "outputs": [],
   "source": []
  },
  {
   "cell_type": "code",
   "execution_count": null,
   "id": "831c497e",
   "metadata": {},
   "outputs": [],
   "source": []
  },
  {
   "cell_type": "code",
   "execution_count": null,
   "id": "12ecb9cc",
   "metadata": {},
   "outputs": [],
   "source": []
  },
  {
   "cell_type": "markdown",
   "id": "d6ae3fa0",
   "metadata": {},
   "source": [
    "3. The goal of Metro Nashville is to have each scooter used a minimum of 3 times per day. Based on the data, what is the average number of trips per scooter per day? Make sure to consider the days that a scooter was available. How does this vary by company?\n",
    "\n",
    "4. What is the highest count of scooters being used at the same time? When did it occur? Does this vary by zip code or other geographic region?\n",
    "\n",
    "5. SUMDs can provide alternative transportation and provide \"last mile\" access to public transit. How often are trips starting near public transit hubs? You can download a dataset of bus stop locations from https://data.nashville.gov/Transportation/Regional-Transportation-Authority-Bus-Stops/p886-fnbd.\n",
    "\n",
    "Deliverables:\n",
    "At the conclusion of this project, your group should deliver a presentation which addresses the following points:\n",
    "* Are scooter companies in compliance with the required data cleaning?\n",
    "* What are typical usage patterns for scooters in terms of time, location, and trip duration?\n",
    "* Does it appear that scooters are used as \"last mile\" transportation from public transit hubs to work or school?\n",
    "* What are your recommendations for total number of scooters for the city overall and density of scooters by zip code?"
   ]
  }
 ],
 "metadata": {
  "kernelspec": {
   "display_name": "Python 3 (ipykernel)",
   "language": "python",
   "name": "python3"
  },
  "language_info": {
   "codemirror_mode": {
    "name": "ipython",
    "version": 3
   },
   "file_extension": ".py",
   "mimetype": "text/x-python",
   "name": "python",
   "nbconvert_exporter": "python",
   "pygments_lexer": "ipython3",
   "version": "3.8.5"
  }
 },
 "nbformat": 4,
 "nbformat_minor": 5
}
