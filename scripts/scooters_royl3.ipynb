{
 "cells": [
  {
   "cell_type": "code",
   "execution_count": null,
   "id": "cf7b4e0e",
   "metadata": {},
   "outputs": [],
   "source": [
    "from shapely.geometry import Point\n",
    "import pandas as pd\n",
    "import geopandas as gpd\n",
    "import matplotlib.pyplot as plt\n",
    "import folium\n",
    "from folium.plugins import MarkerCluster\n",
    "from folium.plugins import FastMarkerCluster\n",
    "from sqlalchemy import create_engine, text"
   ]
  },
  {
   "cell_type": "code",
   "execution_count": null,
   "id": "4dacda97",
   "metadata": {},
   "outputs": [],
   "source": [
    "pip install psycopg2-binary"
   ]
  },
  {
   "cell_type": "markdown",
   "id": "b6b1d109",
   "metadata": {},
   "source": [
    "# GEOSPATIAL ANALYSIS SECTION"
   ]
  },
  {
   "cell_type": "code",
   "execution_count": null,
   "id": "5efbd056",
   "metadata": {},
   "outputs": [],
   "source": [
    "trips_cleaned = pd.read_csv('../data/tripscleaned.csv') # cleaned scooters trips data from 3/21/23 William\n",
    "print(trips_cleaned.shape)\n",
    "trips_cleaned.head(3)"
   ]
  },
  {
   "cell_type": "code",
   "execution_count": null,
   "id": "cdeedd18",
   "metadata": {},
   "outputs": [],
   "source": [
    "trips_cleaned_starts = trips_cleaned[['companyname', 'triprecordnum', 'sumdid', 'tripduration', 'tripdistance', 'startdate', 'starttime', 'startlatitude', 'startlongitude']]\n",
    "trips_cleaned_starts.head()"
   ]
  },
  {
   "cell_type": "code",
   "execution_count": null,
   "id": "68203dc8",
   "metadata": {},
   "outputs": [],
   "source": [
    "trips_cleaned_ends = trips_cleaned[['companyname', 'triprecordnum', 'sumdid', 'tripduration', 'tripdistance', 'enddate', 'endtime', 'endlatitude', 'endlongitude']]\n",
    "trips_cleaned_ends.head()"
   ]
  },
  {
   "cell_type": "code",
   "execution_count": null,
   "id": "d6ff6706",
   "metadata": {},
   "outputs": [],
   "source": [
    "trips_cleaned_starts['geometry'] = trips_cleaned_starts.apply(lambda x: Point((float(x.startlongitude), \n",
    "                                                         float(x.startlatitude))), \n",
    "                                        axis=1)\n",
    "trips_cleaned_starts.head(3)"
   ]
  },
  {
   "cell_type": "code",
   "execution_count": null,
   "id": "f41d1b9a",
   "metadata": {},
   "outputs": [],
   "source": [
    "trips_cleaned_starts = gpd.GeoDataFrame(trips_cleaned_starts, geometry=gpd.points_from_xy(trips_cleaned_starts.startlongitude, trips_cleaned_starts.startlatitude))\n",
    "trips_cleaned_starts.head()"
   ]
  },
  {
   "cell_type": "code",
   "execution_count": null,
   "id": "d3071640",
   "metadata": {},
   "outputs": [],
   "source": [
    "trips_cleaned_starts = trips_cleaned_starts.set_crs(4326)\n",
    "print(trips_cleaned_starts.crs)"
   ]
  },
  {
   "cell_type": "code",
   "execution_count": null,
   "id": "665f36dd",
   "metadata": {},
   "outputs": [],
   "source": [
    "trips_cleaned_starts.geometry.to_crs('EPSG:4326')\n",
    "print(trips_cleaned_starts.crs)"
   ]
  },
  {
   "cell_type": "code",
   "execution_count": null,
   "id": "b90bbd97",
   "metadata": {},
   "outputs": [],
   "source": [
    "trips_cleaned_ends['geometry'] = trips_cleaned_ends.apply(lambda x: Point((float(x.endlongitude), \n",
    "                                                         float(x.endlatitude))), \n",
    "                                        axis=1)\n",
    "trips_cleaned_ends.head(3)"
   ]
  },
  {
   "cell_type": "code",
   "execution_count": null,
   "id": "3872b50f",
   "metadata": {},
   "outputs": [],
   "source": [
    "trips_cleaned_ends = gpd.GeoDataFrame(trips_cleaned_ends, geometry=gpd.points_from_xy(trips_cleaned_ends.endlongitude, trips_cleaned_ends.endlatitude))\n",
    "trips_cleaned_ends.head()"
   ]
  },
  {
   "cell_type": "code",
   "execution_count": null,
   "id": "f0ddc9b2",
   "metadata": {},
   "outputs": [],
   "source": [
    "trips_cleaned_ends = trips_cleaned_ends.set_crs(4326)\n",
    "print(trips_cleaned_ends.crs)"
   ]
  },
  {
   "cell_type": "code",
   "execution_count": null,
   "id": "fbda4b1b",
   "metadata": {},
   "outputs": [],
   "source": [
    "trips_cleaned_ends.geometry.to_crs('EPSG:4326')\n",
    "print(trips_cleaned_ends.crs)"
   ]
  },
  {
   "cell_type": "code",
   "execution_count": null,
   "id": "9c570be5",
   "metadata": {},
   "outputs": [],
   "source": [
    "zipcodes = gpd.read_file('../data/zipcodes.geojson') # from earlier geospatial exercise\n",
    "print(zipcodes.crs)\n",
    "zipcodes.head( )"
   ]
  },
  {
   "cell_type": "code",
   "execution_count": null,
   "id": "ee2b7374",
   "metadata": {},
   "outputs": [],
   "source": [
    "zipcodes.plot();"
   ]
  },
  {
   "cell_type": "code",
   "execution_count": null,
   "id": "4976426f",
   "metadata": {},
   "outputs": [],
   "source": [
    "leg_kwds = {'title': 'Zipcodes', 'loc': 'upper left', \n",
    "            'bbox_to_anchor': (1, 1.03), 'ncol': 2}\n",
    "\n",
    "zipcodes.plot(column = 'zip', figsize=(10, 10),\n",
    "              edgecolor = 'black',\n",
    "              legend = True, legend_kwds = leg_kwds, \n",
    "              cmap = 'Pastel1')\n",
    "plt.show()"
   ]
  },
  {
   "cell_type": "code",
   "execution_count": null,
   "id": "e1d5e309",
   "metadata": {
    "scrolled": true
   },
   "outputs": [],
   "source": [
    "bus_stops = pd.read_csv('../data/busstops_cleaned.csv') # from ea\n",
    "print(bus_stops.shape)\n",
    "bus_stops.head(3)"
   ]
  },
  {
   "cell_type": "code",
   "execution_count": null,
   "id": "88945dd0",
   "metadata": {},
   "outputs": [],
   "source": [
    "bus_stops['geometry'] = bus_stops.apply(lambda x: Point((float(x.lng), \n",
    "                                                         float(x.lat))), \n",
    "                                        axis=1)\n",
    "bus_stops.head(3)"
   ]
  },
  {
   "cell_type": "code",
   "execution_count": null,
   "id": "ada38fac",
   "metadata": {},
   "outputs": [],
   "source": [
    "bus_geo = gpd.GeoDataFrame(bus_stops, \n",
    "                           crs = zipcodes.crs, \n",
    "                           geometry = bus_stops['geometry'])"
   ]
  },
  {
   "cell_type": "code",
   "execution_count": null,
   "id": "821a638c",
   "metadata": {
    "scrolled": true
   },
   "outputs": [],
   "source": [
    "zipcodes = zipcodes[['zip', 'po_name', 'geometry']]\n",
    "zipcodes"
   ]
  },
  {
   "cell_type": "code",
   "execution_count": null,
   "id": "5952f606",
   "metadata": {},
   "outputs": [],
   "source": [
    "stops_by_zip = gpd.sjoin(bus_geo, zipcodes, op = 'within')"
   ]
  },
  {
   "cell_type": "code",
   "execution_count": null,
   "id": "6741388a",
   "metadata": {},
   "outputs": [],
   "source": [
    "trip_starts_by_zip = gpd.sjoin(trips_cleaned_starts, zipcodes, op = 'within')"
   ]
  },
  {
   "cell_type": "code",
   "execution_count": null,
   "id": "9627b530",
   "metadata": {},
   "outputs": [],
   "source": [
    "trip_ends_by_zip = gpd.sjoin(trips_cleaned_ends, zipcodes, op = 'within')"
   ]
  },
  {
   "cell_type": "code",
   "execution_count": null,
   "id": "2535cc72",
   "metadata": {},
   "outputs": [],
   "source": [
    "trip_starts_by_zip['zip'].value_counts()"
   ]
  },
  {
   "cell_type": "code",
   "execution_count": null,
   "id": "ba73d8cf",
   "metadata": {},
   "outputs": [],
   "source": [
    "trip_ends_by_zip['zip'].value_counts()"
   ]
  },
  {
   "cell_type": "code",
   "execution_count": null,
   "id": "3c67beed",
   "metadata": {
    "scrolled": true
   },
   "outputs": [],
   "source": [
    "stops_in_37207 = stops_by_zip.loc[stops_by_zip['zip'] == '37207']\n",
    "stops_in_37207.shape"
   ]
  },
  {
   "cell_type": "code",
   "execution_count": null,
   "id": "7d92fc4e",
   "metadata": {},
   "outputs": [],
   "source": [
    "trip_starts_in_37207 = trip_starts_by_zip.loc[trip_starts_by_zip['zip'] == '37207']\n",
    "trip_starts_in_37207.shape"
   ]
  },
  {
   "cell_type": "code",
   "execution_count": null,
   "id": "0d439367",
   "metadata": {},
   "outputs": [],
   "source": [
    "trip_ends_in_37207 = trip_ends_by_zip.loc[trip_ends_by_zip['zip'] == '37207']\n",
    "trip_ends_in_37207.shape"
   ]
  },
  {
   "cell_type": "code",
   "execution_count": null,
   "id": "f1d1324a",
   "metadata": {},
   "outputs": [],
   "source": [
    "trip_starts_in_37207 = gpd.GeoDataFrame(trip_starts_in_37207, \n",
    "                           crs = zipcodes.crs, \n",
    "                           geometry = trip_starts_in_37207['geometry'])"
   ]
  },
  {
   "cell_type": "code",
   "execution_count": null,
   "id": "ba2c9e50",
   "metadata": {},
   "outputs": [],
   "source": [
    "trip_ends_in_37207 = gpd.GeoDataFrame(trip_ends_in_37207, \n",
    "                           crs = zipcodes.crs, \n",
    "                           geometry = trip_ends_in_37207['geometry'])"
   ]
  },
  {
   "cell_type": "code",
   "execution_count": null,
   "id": "6f1ac456",
   "metadata": {},
   "outputs": [],
   "source": [
    "polygon37207 = zipcodes.loc[zipcodes['zip'] == '37207']\n",
    "polygon37207.shape"
   ]
  },
  {
   "cell_type": "code",
   "execution_count": null,
   "id": "a63017cf",
   "metadata": {},
   "outputs": [],
   "source": [
    "#fig, ax = matplotlib.subplots()\n",
    "ax = polygon37207.plot(figsize = (8, 10), color = 'lightgreen')\n",
    "stops_in_37207.plot( ax = ax, column = 'route');\n",
    "trip_starts_in_37207.plot( ax = ax, column = 'triprecordnum');\n",
    "plt.show();"
   ]
  },
  {
   "cell_type": "code",
   "execution_count": null,
   "id": "f3fd0795",
   "metadata": {},
   "outputs": [],
   "source": [
    "polygon37207.geometry.centroid"
   ]
  },
  {
   "cell_type": "code",
   "execution_count": null,
   "id": "ef4739f2",
   "metadata": {},
   "outputs": [],
   "source": [
    "#find the center of the larger (more southern) polygon and look at it\n",
    "center = polygon37207.geometry.centroid[42]\n",
    "print(center)"
   ]
  },
  {
   "cell_type": "code",
   "execution_count": null,
   "id": "2b9ad507",
   "metadata": {},
   "outputs": [],
   "source": [
    "#find the center of the larger (more southern) polygon and look at it\n",
    "center = polygon37207.geometry.centroid[42]\n",
    "print(center)"
   ]
  },
  {
   "cell_type": "code",
   "execution_count": null,
   "id": "405d0143",
   "metadata": {},
   "outputs": [],
   "source": [
    "# reverse the order when constructing the array for folium location\n",
    "area_center = [center.y, center.x]\n",
    "\n",
    "# check the order of area_center, the location for our folium map\n",
    "print(area_center)"
   ]
  },
  {
   "cell_type": "code",
   "execution_count": null,
   "id": "492f84af",
   "metadata": {},
   "outputs": [],
   "source": [
    "#create our map of Nashville Zip Code 37207 and show it\n",
    "map_37207 = folium.Map(location =  area_center, zoom_start = 12)\n",
    "map_37207"
   ]
  },
  {
   "cell_type": "code",
   "execution_count": null,
   "id": "9a145bee",
   "metadata": {
    "scrolled": true
   },
   "outputs": [],
   "source": [
    "i = 0\n",
    "for row_index, row_values in stops_in_37207.iterrows():\n",
    "    if i <3: \n",
    "        print('index is', row_index)\n",
    "        print('values are:')\n",
    "        print(' ')\n",
    "        print(row_values)\n",
    "        print('------------------------- ')\n",
    "        i+=1"
   ]
  },
  {
   "cell_type": "code",
   "execution_count": null,
   "id": "7b60f202",
   "metadata": {
    "scrolled": true
   },
   "outputs": [],
   "source": [
    "i = 0\n",
    "for row_index, row_values in trip_starts_in_37207.iterrows():\n",
    "    if i <3: \n",
    "        print('index is', row_index)\n",
    "        print('values are:')\n",
    "        print(' ')\n",
    "        print(row_values)\n",
    "        print('------------------------- ')\n",
    "        i+=1"
   ]
  },
  {
   "cell_type": "code",
   "execution_count": null,
   "id": "46cee1db",
   "metadata": {},
   "outputs": [],
   "source": [
    "cluster_map_37207 = folium.Map(location =  area_center, zoom_start = 12)\n",
    "\n",
    "#create a marker cluster\n",
    "marker_cluster = MarkerCluster().add_to(cluster_map_37207)\n",
    "\n",
    "folium.GeoJson(polygon37207).add_to(cluster_map_37207)\n",
    "\n",
    "# inside the loop add each marker to the cluster\n",
    "for row_index, row_values in stops_in_37207.iterrows():\n",
    "    loc = [row_values['lat'], row_values['lng']]\n",
    "    pop = str(row_values['route'])\n",
    "    icon=folium.Icon(color=\"blue\",icon=\"bus\", prefix='fa')\n",
    "    \n",
    "    marker = folium.Marker(\n",
    "       location = loc, \n",
    "       popup = pop,\n",
    "     icon = icon) \n",
    "    \n",
    "    marker.add_to(marker_cluster)  \n",
    "    \n",
    "for row_index, row_values in trip_starts_in_37207.iterrows():\n",
    "    loc = [row_values['startlatitude'], row_values['startlongitude']]\n",
    "    pop = str(row_values['triprecordnum'])\n",
    "    icon=folium.Icon(color=\"green\",icon=\"scooter\", prefix='fa')\n",
    "    \n",
    "    \n",
    "    marker = folium.Marker(\n",
    "        location = loc, \n",
    "        popup = pop,\n",
    "    icon = icon) \n",
    "    \n",
    "    marker.add_to(marker_cluster)\n",
    "\n",
    "    \n",
    "#save an interactive HTML map by calling .save()\n",
    "cluster_map_37207.save('../maps/trip_starts_cluster37207.html')\n",
    "\n",
    "cluster_map_37207  "
   ]
  },
  {
   "cell_type": "code",
   "execution_count": null,
   "id": "0f577195",
   "metadata": {},
   "outputs": [],
   "source": [
    "trip_ends_cluster_map_37207 = folium.Map(location =  area_center, zoom_start = 12)\n",
    "\n",
    "#create a marker cluster\n",
    "marker_cluster = MarkerCluster().add_to(trip_ends_cluster_map_37207)\n",
    "\n",
    "folium.GeoJson(polygon37207).add_to(trip_ends_cluster_map_37207)\n",
    "\n",
    "# inside the loop add each marker to the cluster\n",
    "for row_index, row_values in stops_in_37207.iterrows():\n",
    "    loc = [row_values['lat'], row_values['lng']]\n",
    "    pop = str(row_values['route'])\n",
    "    icon=folium.Icon(color=\"blue\",icon=\"bus\", prefix='fa')\n",
    "    \n",
    "    marker = folium.Marker(\n",
    "       location = loc, \n",
    "       popup = pop,\n",
    "     icon = icon) \n",
    "    \n",
    "    marker.add_to(marker_cluster)  \n",
    "    \n",
    "for row_index, row_values in trip_ends_in_37207.iterrows():\n",
    "    loc = [row_values['endlatitude'], row_values['endlongitude']]\n",
    "    pop = str(row_values['triprecordnum'])\n",
    "    icon=folium.Icon(color=\"red\",icon=\"scooter\", prefix='fa')\n",
    "    \n",
    "    \n",
    "    marker = folium.Marker(\n",
    "        location = loc, \n",
    "        popup = pop,\n",
    "    icon = icon) \n",
    "    \n",
    "    marker.add_to(marker_cluster)\n",
    "\n",
    "    \n",
    "#save an interactive HTML map by calling .save()\n",
    "trip_ends_cluster_map_37207.save('../maps/trip_ends_cluster37207.html')\n",
    "\n",
    "trip_ends_cluster_map_37207  "
   ]
  },
  {
   "cell_type": "markdown",
   "id": "457d42d8",
   "metadata": {},
   "source": [
    "# ZIPCODE = 37203"
   ]
  },
  {
   "cell_type": "code",
   "execution_count": null,
   "id": "5b15e7f5",
   "metadata": {},
   "outputs": [],
   "source": [
    "stops_in_37203 = stops_by_zip.loc[stops_by_zip['zip'] == '37203']\n",
    "stops_in_37203.shape"
   ]
  },
  {
   "cell_type": "code",
   "execution_count": null,
   "id": "87765e85",
   "metadata": {},
   "outputs": [],
   "source": [
    "trip_starts_in_37203 = trip_starts_by_zip.loc[trip_starts_by_zip['zip'] == '37203']\n",
    "trip_starts_in_37203.shape"
   ]
  },
  {
   "cell_type": "code",
   "execution_count": null,
   "id": "75d53424",
   "metadata": {},
   "outputs": [],
   "source": [
    "trip_ends_in_37203 = trip_ends_by_zip.loc[trip_ends_by_zip['zip'] == '37203']\n",
    "trip_ends_in_37203.shape"
   ]
  },
  {
   "cell_type": "code",
   "execution_count": null,
   "id": "1e968a10",
   "metadata": {},
   "outputs": [],
   "source": [
    "trip_starts_in_37203 = gpd.GeoDataFrame(trip_starts_in_37203, \n",
    "                           crs = zipcodes.crs, \n",
    "                           geometry = trip_starts_in_37203['geometry'])"
   ]
  },
  {
   "cell_type": "code",
   "execution_count": null,
   "id": "96746e01",
   "metadata": {},
   "outputs": [],
   "source": [
    "trip_ends_in_37203 = gpd.GeoDataFrame(trip_ends_in_37203, \n",
    "                           crs = zipcodes.crs, \n",
    "                           geometry = trip_ends_in_37203['geometry'])"
   ]
  },
  {
   "cell_type": "code",
   "execution_count": null,
   "id": "2920432e",
   "metadata": {},
   "outputs": [],
   "source": [
    "polygon37203 = zipcodes.loc[zipcodes['zip'] == '37203']\n",
    "polygon37203.shape"
   ]
  },
  {
   "cell_type": "code",
   "execution_count": null,
   "id": "f7ac3645",
   "metadata": {
    "scrolled": true
   },
   "outputs": [],
   "source": [
    "polygon37203.geometry.centroid"
   ]
  },
  {
   "cell_type": "code",
   "execution_count": null,
   "id": "76ff9159",
   "metadata": {},
   "outputs": [],
   "source": [
    "center_37203 = polygon37203.geometry.centroid\n",
    "print(center_37208)"
   ]
  },
  {
   "cell_type": "code",
   "execution_count": null,
   "id": "da6a62a8",
   "metadata": {},
   "outputs": [],
   "source": [
    "# reverse the order when constructing the array for folium location\n",
    "area_center_37203 = [center_37203.y, center_37203.x]\n",
    "\n",
    "# check the order of area_center, the location for our folium map\n",
    "print(area_center_37203)"
   ]
  },
  {
   "cell_type": "code",
   "execution_count": null,
   "id": "e7e9a08c",
   "metadata": {
    "scrolled": true
   },
   "outputs": [],
   "source": [
    "#create our map of Nashville Zip Code 37219 and show it\n",
    "map_37203 = folium.Map(location =  area_center_37203, zoom_start = 12)\n",
    "map_37203"
   ]
  },
  {
   "cell_type": "code",
   "execution_count": null,
   "id": "b1eb72c5",
   "metadata": {},
   "outputs": [],
   "source": [
    "trip_starts_cluster_map_37203 = folium.Map(location =  area_center_37203, zoom_start = 12)\n",
    "\n",
    "#create a marker cluster\n",
    "marker_cluster = MarkerCluster().add_to(trip_starts_cluster_map_37203)\n",
    "\n",
    "folium.GeoJson(polygon37203).add_to(trip_starts_cluster_map_37203)\n",
    "\n",
    "# inside the loop add each marker to the cluster\n",
    "for row_index, row_values in stops_in_37203.iterrows():\n",
    "    loc = [row_values['lat'], row_values['lng']]\n",
    "    pop = str(row_values['route'])\n",
    "    icon=folium.Icon(color=\"blue\",icon=\"bus\", prefix='fa')\n",
    "    \n",
    "    marker = folium.Marker(\n",
    "       location = loc, \n",
    "       popup = pop,\n",
    "     icon = icon) \n",
    "    \n",
    "    marker.add_to(marker_cluster)  \n",
    "    \n",
    "for row_index, row_values in trip_starts_in_37203.iterrows():\n",
    "    loc = [row_values['startlatitude'], row_values['startlongitude']]\n",
    "    pop = str(row_values['triprecordnum'])\n",
    "    icon=folium.Icon(color=\"green\",icon=\"scooter\", prefix='fa')\n",
    "    \n",
    "    \n",
    "    marker = folium.Marker(\n",
    "        location = loc, \n",
    "        popup = pop,\n",
    "    icon = icon) \n",
    "    \n",
    "    marker.add_to(marker_cluster)\n",
    "\n",
    "    \n",
    "#save an interactive HTML map by calling .save()\n",
    "trip_starts_cluster_map_37203.save('../maps/trip_starts_cluster37203.html')\n",
    "\n",
    "trip_starts_cluster_map_37203"
   ]
  },
  {
   "cell_type": "code",
   "execution_count": null,
   "id": "622c052d",
   "metadata": {},
   "outputs": [],
   "source": [
    "trip_ends_cluster_map_37203 = folium.Map(location =  area_center_37203, zoom_start = 12)\n",
    "\n",
    "#create a marker cluster\n",
    "marker_cluster = MarkerCluster().add_to(trip_ends_cluster_map_37203)\n",
    "\n",
    "folium.GeoJson(polygon37203).add_to(trip_ends_cluster_map_37203)\n",
    "\n",
    "# inside the loop add each marker to the cluster\n",
    "for row_index, row_values in stops_in_37203.iterrows():\n",
    "    loc = [row_values['lat'], row_values['lng']]\n",
    "    pop = str(row_values['route'])\n",
    "    icon=folium.Icon(color=\"blue\",icon=\"bus\", prefix='fa')\n",
    "    \n",
    "    marker = folium.Marker(\n",
    "       location = loc, \n",
    "       popup = pop,\n",
    "     icon = icon) \n",
    "    \n",
    "    marker.add_to(marker_cluster)  \n",
    "    \n",
    "for row_index, row_values in trip_ends_in_37203.iterrows():\n",
    "    loc = [row_values['endlatitude'], row_values['endlongitude']]\n",
    "    pop = str(row_values['triprecordnum'])\n",
    "    icon=folium.Icon(color=\"red\",icon=\"scooter\", prefix='fa')\n",
    "    \n",
    "    \n",
    "    marker = folium.Marker(\n",
    "        location = loc, \n",
    "        popup = pop,\n",
    "    icon = icon) \n",
    "    \n",
    "    marker.add_to(marker_cluster)\n",
    "\n",
    "    \n",
    "#save an interactive HTML map by calling .save()\n",
    "trip_ends_cluster_map_37203.save('../maps/trip_ends_cluster37203.html')\n",
    "\n",
    "trip_ends_cluster_map_37203"
   ]
  },
  {
   "cell_type": "code",
   "execution_count": null,
   "id": "d018bbcf",
   "metadata": {},
   "outputs": [],
   "source": []
  },
  {
   "cell_type": "code",
   "execution_count": null,
   "id": "831c497e",
   "metadata": {},
   "outputs": [],
   "source": []
  },
  {
   "cell_type": "code",
   "execution_count": null,
   "id": "12ecb9cc",
   "metadata": {},
   "outputs": [],
   "source": []
  },
  {
   "cell_type": "markdown",
   "id": "d6ae3fa0",
   "metadata": {},
   "source": [
    "3. The goal of Metro Nashville is to have each scooter used a minimum of 3 times per day. Based on the data, what is the average number of trips per scooter per day? Make sure to consider the days that a scooter was available. How does this vary by company?\n",
    "\n",
    "4. What is the highest count of scooters being used at the same time? When did it occur? Does this vary by zip code or other geographic region?\n",
    "\n",
    "5. SUMDs can provide alternative transportation and provide \"last mile\" access to public transit. How often are trips starting near public transit hubs? You can download a dataset of bus stop locations from https://data.nashville.gov/Transportation/Regional-Transportation-Authority-Bus-Stops/p886-fnbd.\n",
    "\n",
    "Deliverables:\n",
    "At the conclusion of this project, your group should deliver a presentation which addresses the following points:\n",
    "* Are scooter companies in compliance with the required data cleaning?\n",
    "* What are typical usage patterns for scooters in terms of time, location, and trip duration?\n",
    "* Does it appear that scooters are used as \"last mile\" transportation from public transit hubs to work or school?\n",
    "* What are your recommendations for total number of scooters for the city overall and density of scooters by zip code?"
   ]
  }
 ],
 "metadata": {
  "kernelspec": {
   "display_name": "Python 3 (ipykernel)",
   "language": "python",
   "name": "python3"
  },
  "language_info": {
   "codemirror_mode": {
    "name": "ipython",
    "version": 3
   },
   "file_extension": ".py",
   "mimetype": "text/x-python",
   "name": "python",
   "nbconvert_exporter": "python",
   "pygments_lexer": "ipython3",
   "version": "3.8.5"
  }
 },
 "nbformat": 4,
 "nbformat_minor": 5
}
