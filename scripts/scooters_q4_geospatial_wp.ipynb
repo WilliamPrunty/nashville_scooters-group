{
 "cells": [
  {
   "cell_type": "code",
   "execution_count": null,
   "id": "81b67ff3",
   "metadata": {},
   "outputs": [],
   "source": [
    "#importing necessary geospatial modules.\n",
    "\n",
    "from shapely.geometry import Point\n",
    "import pandas as pd\n",
    "import geopandas as gpd\n",
    "import matplotlib.pyplot as plt\n",
    "import folium\n",
    "from folium.plugins import MarkerCluster\n",
    "from folium.plugins import FastMarkerCluster"
   ]
  },
  {
   "cell_type": "code",
   "execution_count": null,
   "id": "09b4420e",
   "metadata": {},
   "outputs": [],
   "source": [
    "#importing first .csv\n",
    "\n",
    "tripsgeo = pd.read_csv('../data/tripscleanedwithtime.csv')"
   ]
  },
  {
   "cell_type": "code",
   "execution_count": null,
   "id": "001c447b",
   "metadata": {},
   "outputs": [],
   "source": [
    "#cleaning unnecessary columns\n",
    "\n",
    "tripsgeo = tripsgeo.reset_index(drop=True)\n",
    "tripsgeo = tripsgeo.drop(columns='Unnamed: 0')"
   ]
  },
  {
   "cell_type": "code",
   "execution_count": null,
   "id": "563fb6e4",
   "metadata": {},
   "outputs": [],
   "source": [
    "#creating GeoDataFrame, geometry is created from the starting location of a scooter.\n",
    "\n",
    "tripsgeo = gpd.GeoDataFrame(\n",
    "    tripsgeo, geometry=gpd.points_from_xy(tripsgeo.startlongitude, tripsgeo.startlatitude))"
   ]
  },
  {
   "cell_type": "code",
   "execution_count": null,
   "id": "d9f7a80b",
   "metadata": {},
   "outputs": [],
   "source": [
    "#importing zipcodes for future join, checking crs type.\n",
    "#selecting only necessary columns\n",
    "\n",
    "zipcodes = gpd.read_file('../data/zipcodes.geojson')\n",
    "zipcodes = zipcodes[['zip', 'po_name', 'geometry']]\n",
    "print(zipcodes.crs)\n",
    "zipcodes.head()"
   ]
  },
  {
   "cell_type": "code",
   "execution_count": null,
   "id": "a2be34d9",
   "metadata": {},
   "outputs": [],
   "source": [
    "print(tripsgeo.crs)"
   ]
  },
  {
   "cell_type": "code",
   "execution_count": null,
   "id": "8bbf8c51",
   "metadata": {},
   "outputs": [],
   "source": [
    "#assigning Coordinate Reference System to tripsgeo, matching to the zipcodes given CRS.\n",
    "\n",
    "tripsgeo = tripsgeo.set_crs(crs='epsg:4326')"
   ]
  },
  {
   "cell_type": "code",
   "execution_count": null,
   "id": "bcf84c52",
   "metadata": {},
   "outputs": [],
   "source": [
    "#reducing the number of columns for future ease of use.\n",
    "\n",
    "tripsgeo = tripsgeo[['triprecordnum', 'companyname', 'sumdid', 'tripduration', 'tripdistance', \n",
    "                     'startdate', 'startdatetime', 'enddatetime', 'day_of_year', 'startlatitude', \n",
    "                     'startlongitude', 'hour', 'minute', 'geometry']]"
   ]
  },
  {
   "cell_type": "code",
   "execution_count": null,
   "id": "1c8c76d7",
   "metadata": {},
   "outputs": [],
   "source": [
    "#joining tripsgeo with zipcodes to continue question 4 analysis.\n",
    "#checking new shape, lost two rows. Likely data points that fall outside of the zipcode regions.\n",
    "\n",
    "tripsgeo = gpd.sjoin(tripsgeo, zipcodes, op = 'within')\n",
    "tripsgeo.shape"
   ]
  },
  {
   "cell_type": "markdown",
   "id": "97dfaa79",
   "metadata": {},
   "source": [
    "# 4. What is the highest count of scooters being used at the same time? When did it occur? Does this vary by zip code or other geographic region?\n",
    "The first portion of this question is answered in the 'scooters_q4' notebook. I will continue to explore scooter usage below, with an emphasis on scooter usage throughout zipcodes."
   ]
  },
  {
   "cell_type": "code",
   "execution_count": null,
   "id": "aaa7e89f",
   "metadata": {},
   "outputs": [],
   "source": [
    "#creating some datetime objects.\n",
    "\n",
    "tripsgeo['startdatetime'] = pd.to_datetime(tripsgeo['startdatetime'])\n",
    "tripsgeo['enddatetime'] = pd.to_datetime(tripsgeo['enddatetime'])"
   ]
  },
  {
   "cell_type": "code",
   "execution_count": null,
   "id": "292176bb",
   "metadata": {},
   "outputs": [],
   "source": [
    "#creating some values to utilize in a choropleth\n",
    "#additionally beginning the creation of a table for # of scooter recommendation analysis\n",
    "\n",
    "tripsbyzip = tripsgeo.groupby(by=['zip', 'day_of_year', 'hour']).minute.value_counts(sort=True, ascending=False)\n",
    "tripsbyzipdayhour = tripsgeo.groupby(by=['zip', 'day_of_year']).hour.value_counts(sort=True, ascending=False)"
   ]
  },
  {
   "cell_type": "code",
   "execution_count": null,
   "id": "d3e73799",
   "metadata": {},
   "outputs": [],
   "source": [
    "#converting to dataframe\n",
    "\n",
    "tripsbyzip = pd.DataFrame(tripsbyzip)\n",
    "tripsbyzipdayhour = pd.DataFrame(tripsbyzipdayhour)"
   ]
  },
  {
   "cell_type": "code",
   "execution_count": null,
   "id": "42f9b2d2",
   "metadata": {},
   "outputs": [],
   "source": [
    "#cleaning up column names, resetting index\n",
    "\n",
    "tripsbyzip.columns = ['number_of_trips']\n",
    "tripsbyzip = tripsbyzip.reset_index()\n",
    "tripsbyzipdayhour.columns = ['numberoftrips']\n",
    "tripsbyzipdayhour = tripsbyzipdayhour.reset_index()"
   ]
  },
  {
   "cell_type": "code",
   "execution_count": null,
   "id": "82c8ba05",
   "metadata": {},
   "outputs": [],
   "source": [
    "#sorting by number of trips, making sure there is varied data and inspecting new column names. \n",
    "\n",
    "tripsbyzip.sort_values('number_of_trips', ascending=False)"
   ]
  },
  {
   "cell_type": "code",
   "execution_count": null,
   "id": "dea64b05",
   "metadata": {},
   "outputs": [],
   "source": [
    "#creating some arrays of day_of_year and startdate to create a dictionary\n",
    "#to rejoin the proper date back to table\n",
    "\n",
    "uniquedayofyear = tripsgeo['day_of_year'].sort_values().unique()\n",
    "uniquedates = tripsgeo['startdate'].sort_values().unique()"
   ]
  },
  {
   "cell_type": "code",
   "execution_count": null,
   "id": "79c83c9a",
   "metadata": {},
   "outputs": [],
   "source": [
    "#creating dictionary\n",
    "\n",
    "datedict= dict(zip(uniquedayofyear, uniquedates))"
   ]
  },
  {
   "cell_type": "code",
   "execution_count": null,
   "id": "4516cd00",
   "metadata": {},
   "outputs": [],
   "source": [
    "#creating new column of proper date from datedict for easier presentation\n",
    "\n",
    "tripsbyzip['date'] = tripsbyzip['day_of_year'].map(datedict)\n",
    "tripsbyzipdayhour['date'] = tripsbyzipdayhour['day_of_year'].map(datedict)\n",
    "tripsbyzip.head()"
   ]
  },
  {
   "cell_type": "code",
   "execution_count": null,
   "id": "26ca9262",
   "metadata": {},
   "outputs": [],
   "source": [
    "#converting tripduration to timedelta to perform some aggregations\n",
    "\n",
    "tripsgeo['tripduration'] = pd.to_timedelta(tripsgeo['tripduration'])"
   ]
  },
  {
   "cell_type": "code",
   "execution_count": null,
   "id": "d2027ec6",
   "metadata": {},
   "outputs": [],
   "source": [
    "#creating aggregates for trip duration\n",
    "\n",
    "durationdescribe = tripsgeo.groupby(by='zip').tripduration.describe().reset_index()"
   ]
  },
  {
   "cell_type": "code",
   "execution_count": null,
   "id": "9c12f856",
   "metadata": {},
   "outputs": [],
   "source": [
    "#creating aggregates for trip distance\n",
    "\n",
    "distancedescribe = tripsgeo.groupby(by='zip').tripdistance.describe().reset_index()"
   ]
  },
  {
   "cell_type": "code",
   "execution_count": null,
   "id": "10ce5389",
   "metadata": {},
   "outputs": [],
   "source": [
    "#calculating sum to join to previous aggregations for both distance and duration.\n",
    "#maybe not useful, but a fun fact for distance travelled by zipcode.\n",
    "\n",
    "durationsum = pd.DataFrame(tripsgeo.groupby(by='zip').tripduration.sum()).reset_index()\n",
    "distancesum = pd.DataFrame(tripsgeo.groupby(by='zip').tripdistance.sum()).reset_index()\n",
    "durationdescribe = pd.merge(durationdescribe, durationsum, on='zip')\n",
    "distancedescribe = pd.merge(distancedescribe, distancesum, on='zip')"
   ]
  },
  {
   "cell_type": "code",
   "execution_count": null,
   "id": "56fc6e55",
   "metadata": {},
   "outputs": [],
   "source": [
    "#exporting all the created DataFrames above to .csv for possible use in Tableau.\n",
    "\n",
    "#durationdescribe.to_csv('../data/durationaggs.csv', index=False)\n",
    "#distancedescribe.to_csv('../data/distanceaggs.csv', index=False)\n",
    "#tripsgeo.to_csv('../data/tripsgeo.csv', index=False)\n",
    "#tripsbyzip.to_csv('../data/tripsbytimeandzipcode.csv', index=False)"
   ]
  },
  {
   "cell_type": "code",
   "execution_count": null,
   "id": "7c0e4fe2",
   "metadata": {},
   "outputs": [],
   "source": [
    "#merging zipcode geometry to trips by zip.\n",
    "\n",
    "tripsbyzipgeo = pd.merge(tripsbyzip, zipcodes, on='zip')"
   ]
  },
  {
   "cell_type": "code",
   "execution_count": null,
   "id": "0d3d322f",
   "metadata": {},
   "outputs": [],
   "source": [
    "#creating geodataframe of tripsbyzipgeo\n",
    "\n",
    "tripsbyzipgeo = gpd.GeoDataFrame(tripsbyzipgeo, geometry='geometry')"
   ]
  },
  {
   "cell_type": "code",
   "execution_count": null,
   "id": "39eccf40",
   "metadata": {},
   "outputs": [],
   "source": [
    "#checking that CRS is correct and a proper geometry column exists.\n",
    "\n",
    "tripsbyzipgeo.info()\n",
    "print(tripsbyzipgeo.crs)"
   ]
  },
  {
   "cell_type": "code",
   "execution_count": null,
   "id": "ada72c3b",
   "metadata": {},
   "outputs": [],
   "source": [
    "#creating a column for maximum number of trips for a given zip code\n",
    "\n",
    "tripsmax = pd.DataFrame(tripsbyzipgeo.groupby(by='zip').number_of_trips.max()).reset_index()\n",
    "tripsmax.columns = ['zip', 'number_of_trips']"
   ]
  },
  {
   "cell_type": "code",
   "execution_count": null,
   "id": "6e4fee9e",
   "metadata": {},
   "outputs": [],
   "source": [
    "#merging maximum number of trips to tripsbyzipgeo to display on a graph\n",
    "\n",
    "tripsbyzipgeomaxrides = pd.merge(tripsbyzipgeo, tripsmax, on=['zip', 'number_of_trips'])"
   ]
  },
  {
   "cell_type": "markdown",
   "id": "ba537046",
   "metadata": {},
   "source": [
    "# Creating a quick dataframe for scooter recommendations deliverable."
   ]
  },
  {
   "cell_type": "code",
   "execution_count": null,
   "id": "b29fc4f9",
   "metadata": {},
   "outputs": [],
   "source": [
    "#getting unique scooters per day and hour\n",
    "\n",
    "scootercount = pd.DataFrame(tripsgeo.groupby(by=['zip', 'day_of_year', 'hour']).sumdid.nunique()).reset_index()"
   ]
  },
  {
   "cell_type": "code",
   "execution_count": null,
   "id": "5425f18d",
   "metadata": {},
   "outputs": [],
   "source": [
    "#merging to tripsbyzipdayhour\n",
    "\n",
    "tripsbyzipdayhour = pd.merge(tripsbyzipdayhour, scootercount, on=['zip', 'day_of_year', 'hour'])"
   ]
  },
  {
   "cell_type": "code",
   "execution_count": null,
   "id": "3e487754",
   "metadata": {},
   "outputs": [],
   "source": [
    "#renaming columns\n",
    "\n",
    "tripsbyzipdayhour.columns = ['zip', 'day_of_year', 'hour', 'numberoftrips', 'date', 'uniqueSUMDID']"
   ]
  },
  {
   "cell_type": "code",
   "execution_count": null,
   "id": "9b45ac3b",
   "metadata": {},
   "outputs": [],
   "source": [
    "#creating datetime object to extract weekday name from\n",
    "\n",
    "tripsbyzipdayhour['date'] = pd.to_datetime(tripsbyzipdayhour['date'])"
   ]
  },
  {
   "cell_type": "code",
   "execution_count": null,
   "id": "19ae210d",
   "metadata": {},
   "outputs": [],
   "source": [
    "#Extracting weekday name\n",
    "\n",
    "tripsbyzipdayhour['dayname'] = tripsbyzipdayhour['date'].dt.day_name()"
   ]
  },
  {
   "cell_type": "code",
   "execution_count": null,
   "id": "74210669",
   "metadata": {},
   "outputs": [],
   "source": [
    "#saving as .csv\n",
    "\n",
    "tripsbyzipdayhour.to_csv('../data/scooterrecommendations.csv')"
   ]
  },
  {
   "cell_type": "markdown",
   "id": "126097b9",
   "metadata": {},
   "source": [
    "# End scooter recommendations table"
   ]
  },
  {
   "cell_type": "markdown",
   "id": "4fd7a7b2",
   "metadata": {},
   "source": [
    "# Continue Q4 Geopspatial"
   ]
  },
  {
   "cell_type": "code",
   "execution_count": null,
   "id": "efd202a3",
   "metadata": {},
   "outputs": [],
   "source": [
    "#Creating a choropleth showing the MAXIMUM concurrent rides reported by Zipcode\n",
    "\n",
    "fig, ax = plt.subplots(figsize=(10, 10))\n",
    "tripsbyzipgeomaxrides.plot(column = 'number_of_trips', \n",
    "              cmap = 'Reds',              \n",
    "              edgecolor = 'black',\n",
    "              legend=True,\n",
    "              ax = ax)\n",
    "ax.axis('off');\n",
    "plt.title('Maximum Concurrent Rides by Zipcode')\n",
    "plt.show()"
   ]
  },
  {
   "cell_type": "code",
   "execution_count": null,
   "id": "92f3b273",
   "metadata": {},
   "outputs": [],
   "source": [
    "#setting up a new table for plotting a choropleth of average distance or duration by zipcode\n",
    "\n",
    "averagedistance = distancedescribe[['zip', 'mean']]\n",
    "averagedistance.columns = ['zip', 'avg_distance']\n",
    "averageduration = durationdescribe[['zip', 'mean']]\n",
    "averageduration.columns = ['zip', 'avg_duration']"
   ]
  },
  {
   "cell_type": "code",
   "execution_count": null,
   "id": "f0ddd7c2",
   "metadata": {},
   "outputs": [],
   "source": [
    "#creating a table to utilize for a choropleth showing average distance or duration by zipcode\n",
    "\n",
    "avgdistancechoro = pd.merge(tripsbyzipgeo, averagedistance, on='zip')\n",
    "avgdurationchoro = pd.merge(tripsbyzipgeo, averageduration, on='zip')"
   ]
  },
  {
   "cell_type": "code",
   "execution_count": null,
   "id": "8b63b776",
   "metadata": {},
   "outputs": [],
   "source": [
    "#formatting avg_duration for easier plotting.\n",
    "\n",
    "avgdurationchoro['avg_duration'] = pd.to_timedelta(avgdurationchoro['avg_duration'])\n",
    "avgdurationchoro['avg_minutes'] = avgdurationchoro['avg_duration'] / pd.Timedelta(minutes=1)"
   ]
  },
  {
   "cell_type": "code",
   "execution_count": null,
   "id": "6dec9f5e",
   "metadata": {},
   "outputs": [],
   "source": [
    "#looking at maximum average distances.\n",
    "\n",
    "avgdistancechoro.sort_values('avg_distance', ascending=False).head()"
   ]
  },
  {
   "cell_type": "code",
   "execution_count": null,
   "id": "30d66fd4",
   "metadata": {},
   "outputs": [],
   "source": [
    "#plotting choropleth of average distance by zipcode.\n",
    "\n",
    "fig, ax = plt.subplots(figsize=(10, 10))\n",
    "avgdistancechoro.plot(column = 'avg_distance', \n",
    "              cmap = 'Greens',              \n",
    "              edgecolor = 'black',\n",
    "              legend=True,\n",
    "              ax = ax)\n",
    "ax.axis('off');\n",
    "plt.title('Average Distance in Feet by Zipcode')\n",
    "plt.show()"
   ]
  },
  {
   "cell_type": "code",
   "execution_count": null,
   "id": "742c1d7b",
   "metadata": {},
   "outputs": [],
   "source": [
    "#plotting choropleth of average duration by zipcode\n",
    "\n",
    "fig, ax = plt.subplots(figsize=(10, 10))\n",
    "avgdurationchoro.plot(column = 'avg_minutes', \n",
    "              cmap = 'Reds',              \n",
    "              edgecolor = 'black',\n",
    "              legend=True,\n",
    "              ax = ax)\n",
    "ax.axis('off');\n",
    "plt.title('Average Duration in Minutes by Zipcode')\n",
    "plt.show()"
   ]
  },
  {
   "cell_type": "markdown",
   "id": "15fa78a0",
   "metadata": {},
   "source": [
    "# 4. What is the highest count of scooters being used at the same time? When did it occur? Does this vary by zip code or other geographic region?\n",
    "Scooter use varies dramatically by zipcode with the majority of use being centered around downtown Nashville. As you move away from the city center, scooter use decreases but distance travelled increases. "
   ]
  },
  {
   "cell_type": "code",
   "execution_count": null,
   "id": "a7d003e5",
   "metadata": {},
   "outputs": [],
   "source": [
    "tripsgeo = tripsgeo.drop(columns='index_right')"
   ]
  },
  {
   "cell_type": "code",
   "execution_count": null,
   "id": "2639cc46",
   "metadata": {},
   "outputs": [],
   "source": [
    "#tripsgeo.to_csv('../data/tripsgeo.csv')"
   ]
  }
 ],
 "metadata": {
  "kernelspec": {
   "display_name": "Python 3 (ipykernel)",
   "language": "python",
   "name": "python3"
  },
  "language_info": {
   "codemirror_mode": {
    "name": "ipython",
    "version": 3
   },
   "file_extension": ".py",
   "mimetype": "text/x-python",
   "name": "python",
   "nbconvert_exporter": "python",
   "pygments_lexer": "ipython3",
   "version": "3.9.13"
  }
 },
 "nbformat": 4,
 "nbformat_minor": 5
}
