{
 "cells": [
  {
   "cell_type": "code",
   "execution_count": null,
   "id": "77aabd60",
   "metadata": {},
   "outputs": [],
   "source": [
    "#importing necessary modules\n",
    "\n",
    "import pandas as pd\n",
    "import datetime as dt\n",
    "import re"
   ]
  },
  {
   "cell_type": "code",
   "execution_count": null,
   "id": "a2d5a3c1",
   "metadata": {},
   "outputs": [],
   "source": [
    "#importing cleaned trips data.\n",
    "\n",
    "trips = pd.read_csv('../data/tripscleaned.csv')"
   ]
  },
  {
   "cell_type": "code",
   "execution_count": null,
   "id": "89c59ea6",
   "metadata": {},
   "outputs": [],
   "source": [
    "#cleaning and resetting prior index.\n",
    "\n",
    "trips = trips.reset_index(drop=True)\n",
    "trips = trips.drop(columns='Unnamed: 0')"
   ]
  },
  {
   "cell_type": "code",
   "execution_count": null,
   "id": "d6874153",
   "metadata": {},
   "outputs": [],
   "source": [
    "#assigning datatype 'datetime' to startdatetime and enddatetime.\n",
    "#checking datatypes to verify the change. \n",
    "\n",
    "trips['startdatetime'] = pd.to_datetime(trips['startdatetime'])\n",
    "trips['enddatetime'] = pd.to_datetime(trips['enddatetime'])\n",
    "trips.info()"
   ]
  },
  {
   "cell_type": "markdown",
   "id": "648780fc",
   "metadata": {},
   "source": [
    "## 4. What is the highest count of scooters being used at the same time? When did it occur? Does this vary by zip code or other geographic region?\n",
    "Data utilized is the cleaned trips from initial EDA and Q2, notes on cleaning can be found in notebook 'scooters_initial_eda_and_q2'. A trip 'occurs' on the day that the ride starts ('startdatetime') regardless of whether or not the trip extends into a different day/week/month."
   ]
  },
  {
   "cell_type": "code",
   "execution_count": null,
   "id": "0af8ea64",
   "metadata": {},
   "outputs": [],
   "source": [
    "#creating columns for future analysis of scooter use during specific times. I plan to group 'startdatetime'\n",
    "#by different portions of the object to find the most number of scooters being used within a specific timeframe.\n",
    "#Utilized string functions to extract double digit minutes from 'starttime', then take the first character only, \n",
    "#concatenate a 0 for 'tens of minutes'\n",
    "\n",
    "trips['day_of_year'] = trips['startdatetime'].dt.dayofyear\n",
    "trips['hour'] = trips['startdatetime'].dt.hour\n",
    "trips['minute'] = trips['starttime'].str[3:5]\n",
    "trips['minute'] = trips['minute'].astype(str)\n",
    "trips['minute'] = trips['minute'].str[0] + '0'"
   ]
  },
  {
   "cell_type": "code",
   "execution_count": null,
   "id": "577bc2e2",
   "metadata": {},
   "outputs": [],
   "source": [
    "#calculating trips by day\n",
    "\n",
    "tripsbyday = trips.day_of_year.value_counts(sort=True, ascending=False)"
   ]
  },
  {
   "cell_type": "code",
   "execution_count": null,
   "id": "60da3211",
   "metadata": {},
   "outputs": [],
   "source": [
    "#calculating trips by day and hour\n",
    "\n",
    "tripsbydayhour = trips.groupby(by='day_of_year').hour.value_counts(sort=True, ascending=False)"
   ]
  },
  {
   "cell_type": "code",
   "execution_count": null,
   "id": "aaa84c11",
   "metadata": {},
   "outputs": [],
   "source": [
    "#calculating trips by day, hour, and minute\n",
    "\n",
    "tripsbydayhourminute = trips.groupby(by=['day_of_year', 'hour']).minute.value_counts(sort=True, ascending=False)"
   ]
  },
  {
   "cell_type": "code",
   "execution_count": null,
   "id": "09f81a75",
   "metadata": {},
   "outputs": [],
   "source": [
    "#exporting as .csv for possible use in building a presentation in excel or tableau.\n",
    "\n",
    "#tripsbyday.to_csv('../data/tripsbyday.csv')\n",
    "#tripsbydayhour.to_csv('../data/tripsbydayhour.csv')\n",
    "#tripsbydayhourminute.to_csv('../data/tripsbydayhourminute.csv')"
   ]
  },
  {
   "cell_type": "code",
   "execution_count": null,
   "id": "19c53ff2",
   "metadata": {},
   "outputs": [],
   "source": [
    "#reformatting data to better represent the contents, sorting to find most trips at a given time.\n",
    "\n",
    "dayhourminute = pd.DataFrame(tripsbydayhourminute)\n",
    "dayhourminute.columns = ['number_of_trips']\n",
    "dayhourminute.sort_values('number_of_trips', ascending=False).head(25)"
   ]
  },
  {
   "cell_type": "code",
   "execution_count": null,
   "id": "6935d2aa",
   "metadata": {},
   "outputs": [],
   "source": [
    "#reformatting data to better represent the contents, sorting to find most trips at a given time, comparing against the more\n",
    "#detailed look above.\n",
    "\n",
    "dayhour = pd.DataFrame(tripsbydayhour)\n",
    "dayhour.columns = ['number_of_trips']\n",
    "dayhour.sort_values('number_of_trips', ascending=False)"
   ]
  },
  {
   "cell_type": "code",
   "execution_count": null,
   "id": "6055e83f",
   "metadata": {},
   "outputs": [],
   "source": [
    "#compared notes with Roy and noticed our numbers were different. Investigated further.\n",
    "#and found that for my max number of trips in a given time frame, day 136 and hour 23, there\n",
    "#was only 249 scooters responsible for ~2800 trips. Or 11.25 trips > 1 minute for every\n",
    "#scooter represented in that hour. Following is an investigation into these trips where I found\n",
    "#Lime had the highest number of recorded trips for the given time period, cleaned trips file created in the initial notebook\n",
    "#was updated to remove duplicates. All duplicates are stored in a seperate .csv for possible future analysis. \n",
    "\n",
    "trips13623 = trips[(trips['hour'] == 23) & (trips['day_of_year'] == 136)]\n",
    "trips13623.companyname.value_counts()"
   ]
  },
  {
   "cell_type": "code",
   "execution_count": null,
   "id": "4206ed05",
   "metadata": {},
   "outputs": [],
   "source": [
    "#creating a .csv of all Lime rows to explore more easily in excel.\n",
    "\n",
    "#tripslime = trips[(trips['companyname'] == 'Lime')]"
   ]
  },
  {
   "cell_type": "code",
   "execution_count": null,
   "id": "cd090578",
   "metadata": {},
   "outputs": [],
   "source": [
    "#returning to initial data cleaning to find and remove offending rows."
   ]
  },
  {
   "cell_type": "code",
   "execution_count": null,
   "id": "fbe759d2",
   "metadata": {},
   "outputs": [],
   "source": [
    "#trips13623.to_csv('../data/trips13623.csv')"
   ]
  },
  {
   "cell_type": "code",
   "execution_count": null,
   "id": "21f4e43b",
   "metadata": {},
   "outputs": [],
   "source": [
    "#exporting records of Lime's trips to investigate more easily in excel.\n",
    "\n",
    "#tripslime.to_csv('../data/tripslime.csv')"
   ]
  },
  {
   "cell_type": "markdown",
   "id": "21af3575",
   "metadata": {},
   "source": [
    "# Q4 Answers Pt.1\n",
    "To determine the highest count of scooters being used at one time, I extracted different measures of time from 'startdatetime' to group by and count records within the table. \n",
    "\n",
    "I counted the number of trips grouped by day of year, day of year + hour, and day of year + hour + tens of minutes. Using this approach, the more accurate representation of \"being used at the same time\" will be the smallest reasonable time period you can distill the data to. With this approach, it's perhaps more answering the question \"What is the maximum number of trips taken via scooter in a given timeframe?\" where the timeframe is such a reasonably small window you could consider it \"at the same time\".\n",
    "\n",
    "An alternative approach would be to compare the actual timeframe of each trip to see where they overlap with each other. While it would be the most accurate, that approach is outside the scope of my current knowledge and time.\n",
    "\n",
    "Using this method, I found that 05-25-2019 at 18:00 and 05-26-2019 at 18:50 had the most trips recorded for a given 10 minute time period, with 258 trips within their respective time intervals. The most trips recorded for a single hour long period was 05-25-2019 during the 18:00 hour with a recorded 1344 trips."
   ]
  },
  {
   "cell_type": "code",
   "execution_count": null,
   "id": "21577ba4",
   "metadata": {},
   "outputs": [],
   "source": [
    "#exporting trips with time to .csv to continue Q4 analysis in a GeoSpatial environment.\n",
    "\n",
    "trips.to_csv('../data/tripscleanedwithtime.csv')"
   ]
  }
 ],
 "metadata": {
  "kernelspec": {
   "display_name": "Python 3 (ipykernel)",
   "language": "python",
   "name": "python3"
  },
  "language_info": {
   "codemirror_mode": {
    "name": "ipython",
    "version": 3
   },
   "file_extension": ".py",
   "mimetype": "text/x-python",
   "name": "python",
   "nbconvert_exporter": "python",
   "pygments_lexer": "ipython3",
   "version": "3.9.13"
  }
 },
 "nbformat": 4,
 "nbformat_minor": 5
}
