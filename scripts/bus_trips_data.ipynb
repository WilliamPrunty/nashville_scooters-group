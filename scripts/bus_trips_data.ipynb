{
 "cells": [
  {
   "cell_type": "markdown",
   "id": "f325b1f6",
   "metadata": {},
   "source": [
    "### This code cleans bus stop data and merges it with scooters trip data "
   ]
  },
  {
   "cell_type": "code",
   "execution_count": 1,
   "id": "6240569c",
   "metadata": {},
   "outputs": [],
   "source": [
    "from shapely.geometry import Point\n",
    "import pandas as pd\n",
    "import geopandas as gpd\n",
    "import matplotlib.pyplot as plt\n",
    "import folium\n",
    "from folium.plugins import MarkerCluster\n",
    "from folium.plugins import FastMarkerCluster"
   ]
  },
  {
   "cell_type": "code",
   "execution_count": 2,
   "id": "cbb7e548",
   "metadata": {},
   "outputs": [],
   "source": [
    "bus_stops1 = pd.read_csv('../data/Regional_Transportation_Authority_Bus_Stops.csv') #reads bus stop data"
   ]
  },
  {
   "cell_type": "code",
   "execution_count": 3,
   "id": "1696e672",
   "metadata": {
    "scrolled": true
   },
   "outputs": [],
   "source": [
    "bs1 = bus_stops1.drop(columns = ['Stop ID Number', 'Stop Abbreviation', 'Bench', 'Shelter', 'Line Number']) #drops unneeded columns"
   ]
  },
  {
   "cell_type": "code",
   "execution_count": 4,
   "id": "5d3ab6bb",
   "metadata": {},
   "outputs": [],
   "source": [
    "bs1.columns = ['stop', 'route', 'location'] #renames retained columns"
   ]
  },
  {
   "cell_type": "code",
   "execution_count": 5,
   "id": "1a84c2c2",
   "metadata": {
    "scrolled": true
   },
   "outputs": [],
   "source": [
    "bs2 = bs1['location'].str.strip('()')                               \\\n",
    "                   .str.split(', ', expand=True)                   \\\n",
    "                   .rename(columns={0:'lat', 1:'long'})\n",
    "#pulls latitude and longitude into separate columns"
   ]
  },
  {
   "cell_type": "code",
   "execution_count": 6,
   "id": "61c64acb",
   "metadata": {},
   "outputs": [],
   "source": [
    "bs1['lat'] = bs2['lat']\n",
    "bs1['lng'] = bs2['long']\n",
    "#adds latitude and longitude to original dataframe in separate columns"
   ]
  },
  {
   "cell_type": "code",
   "execution_count": 8,
   "id": "90674ebc",
   "metadata": {},
   "outputs": [],
   "source": [
    "bs1['geometry'] = bs1.apply(lambda x: Point((float(x.lng), \n",
    "                                                         float(x.lat))), \n",
    "                                        axis=1)\n",
    "#creates geometry column"
   ]
  },
  {
   "cell_type": "code",
   "execution_count": null,
   "id": "453e6131",
   "metadata": {},
   "outputs": [],
   "source": [
    "bs1.to_csv('bus_stops.csv')\n",
    "#exports bus stops csv"
   ]
  },
  {
   "cell_type": "code",
   "execution_count": 9,
   "id": "6c57a405",
   "metadata": {},
   "outputs": [],
   "source": [
    "bus_str = bs2\n",
    "#rename dataframe containing lat/long for bus stops"
   ]
  },
  {
   "cell_type": "code",
   "execution_count": null,
   "id": "e117f398",
   "metadata": {
    "scrolled": true
   },
   "outputs": [],
   "source": [
    "bus_str['type'] = 'Bus Stop'\n",
    "#add type column"
   ]
  },
  {
   "cell_type": "code",
   "execution_count": 11,
   "id": "cab69657",
   "metadata": {
    "scrolled": true
   },
   "outputs": [],
   "source": [
    "bus_str['date'] = 'na'\n",
    "#adds date column"
   ]
  },
  {
   "cell_type": "code",
   "execution_count": null,
   "id": "e2cd033f",
   "metadata": {
    "scrolled": false
   },
   "outputs": [],
   "source": [
    "bus_str['companyname'] = 'na'\n",
    "#adds company name column"
   ]
  },
  {
   "cell_type": "code",
   "execution_count": null,
   "id": "1fecb728",
   "metadata": {},
   "outputs": [],
   "source": [
    "bus_str['triprecordnum'] = 'na'\n",
    "#adds trip record column"
   ]
  },
  {
   "cell_type": "code",
   "execution_count": null,
   "id": "57605172",
   "metadata": {
    "scrolled": true
   },
   "outputs": [],
   "source": [
    "trips = pd.read_csv('../data/tripscleaned.csv')\n",
    "#reads in the cleaned trips data"
   ]
  },
  {
   "cell_type": "code",
   "execution_count": null,
   "id": "c9bf388f",
   "metadata": {},
   "outputs": [],
   "source": [
    "trips_start = trips[['startlatitude','startlongitude','startdatetime', 'companyname', 'triprecordnum']]\n",
    "#creates dataframe with information about the origins of trips"
   ]
  },
  {
   "cell_type": "code",
   "execution_count": null,
   "id": "3f114c94",
   "metadata": {
    "scrolled": true
   },
   "outputs": [],
   "source": [
    "trips_start.rename(columns={'startlatitude': 'lat', 'startlongitude': 'lng', 'startdatetime':'date'}, inplace=True)\n",
    "#renames columns for consistency"
   ]
  },
  {
   "cell_type": "code",
   "execution_count": null,
   "id": "82216d09",
   "metadata": {},
   "outputs": [],
   "source": [
    "trips_start.insert(2, 'type', 'origin')\n",
    "#adds type column specifying that this is origin data"
   ]
  },
  {
   "cell_type": "code",
   "execution_count": null,
   "id": "aa0f875f",
   "metadata": {},
   "outputs": [],
   "source": [
    "trips_end = trips[['endlatitude','endlongitude','enddatetime', 'companyname', 'triprecordnum']]\n",
    "#creates dataframe with information about the destinations of trips"
   ]
  },
  {
   "cell_type": "code",
   "execution_count": null,
   "id": "c95accdf",
   "metadata": {},
   "outputs": [],
   "source": [
    "trips_end.rename(columns={'endlatitude': 'lat', 'endlongitude': 'lng', 'enddatetime':'date'}, inplace=True)\n",
    "#renames columns for consistency"
   ]
  },
  {
   "cell_type": "code",
   "execution_count": null,
   "id": "3dd08f58",
   "metadata": {},
   "outputs": [],
   "source": [
    "trips_end.insert(2, 'type', 'destination')\n",
    "#adds type column specifying that this is destination data"
   ]
  },
  {
   "cell_type": "code",
   "execution_count": null,
   "id": "04dc9e12",
   "metadata": {},
   "outputs": [],
   "source": [
    "start_trips_bus = bus_str.append(trips_start, ignore_index=True)\n",
    "#combines bus and origin data"
   ]
  },
  {
   "cell_type": "code",
   "execution_count": null,
   "id": "85968499",
   "metadata": {},
   "outputs": [],
   "source": [
    "all_trips_bus = start_trips_bus.append(trips_end, ignore_index=True)\n",
    "#combines bus, origin, and destination data"
   ]
  },
  {
   "cell_type": "code",
   "execution_count": null,
   "id": "bf63fa9b",
   "metadata": {},
   "outputs": [],
   "source": [
    "all_trips_bus.to_csv('trips_heatmap_data.csv')\n",
    "#exports bus, origin, and destination data to csv"
   ]
  },
  {
   "cell_type": "code",
   "execution_count": null,
   "id": "41d27ed6",
   "metadata": {},
   "outputs": [],
   "source": [
    "bus_str.to_csv('bus_str.csv')\n",
    "trips_start.to_csv('trip_starts_str.csv')\n",
    "trips_end.to_csv('trip_ends_str.csv')\n",
    "#exports bus, origin, and destination data to csvs separately"
   ]
  },
  {
   "cell_type": "code",
   "execution_count": null,
   "id": "5bc2421d",
   "metadata": {},
   "outputs": [],
   "source": [
    "all_trips = trips_start.append(trips_end, ignore_index=True)\n",
    "#combines origin and destination data"
   ]
  },
  {
   "cell_type": "code",
   "execution_count": null,
   "id": "9e2d8776",
   "metadata": {},
   "outputs": [],
   "source": [
    "all_trips.to_csv('all_trips_str.csv')\n",
    "#exports origin and destination data to csv"
   ]
  },
  {
   "cell_type": "code",
   "execution_count": null,
   "id": "c58fd479",
   "metadata": {},
   "outputs": [],
   "source": []
  }
 ],
 "metadata": {
  "kernelspec": {
   "display_name": "Python 3 (ipykernel)",
   "language": "python",
   "name": "python3"
  },
  "language_info": {
   "codemirror_mode": {
    "name": "ipython",
    "version": 3
   },
   "file_extension": ".py",
   "mimetype": "text/x-python",
   "name": "python",
   "nbconvert_exporter": "python",
   "pygments_lexer": "ipython3",
   "version": "3.8.5"
  }
 },
 "nbformat": 4,
 "nbformat_minor": 5
}
