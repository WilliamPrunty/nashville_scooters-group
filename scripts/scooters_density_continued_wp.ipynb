{
 "cells": [
  {
   "cell_type": "code",
   "execution_count": null,
   "id": "a80163e8",
   "metadata": {},
   "outputs": [],
   "source": [
    "import pandas as pd\n",
    "import datetime as dt\n",
    "import numpy as np\n",
    "import seaborn as sns\n",
    "import matplotlib.pyplot as plt\n",
    "import folium\n",
    "from folium.plugins import MarkerCluster\n",
    "from folium.plugins import FastMarkerCluster\n",
    "import geopandas as gpd\n",
    "from shapely.geometry import Point\n",
    "\n",
    "%matplotlib inline"
   ]
  },
  {
   "cell_type": "markdown",
   "id": "e49a1148",
   "metadata": {},
   "source": [
    "### This is a notebook exploring meaningful ways to determine scooter density for a given area. Ultimately, visualization was done in Tableau utilizing data from the use status .csv created by Diarra and an additional table of unique scooter ids for a given time and zipcode that I created previously."
   ]
  },
  {
   "cell_type": "code",
   "execution_count": null,
   "id": "1d2fb2a7",
   "metadata": {},
   "outputs": [],
   "source": [
    "scooteruse = pd.read_csv('../data/availzipcleaned.csv')"
   ]
  },
  {
   "cell_type": "code",
   "execution_count": null,
   "id": "3fe72ab6",
   "metadata": {},
   "outputs": [],
   "source": [
    "scooteruse = scooteruse.reset_index(drop=True)\n",
    "scooteruse = scooteruse.drop(columns='Unnamed: 0')"
   ]
  },
  {
   "cell_type": "code",
   "execution_count": null,
   "id": "fecb16bf",
   "metadata": {},
   "outputs": [],
   "source": [
    "zipcodes = gpd.read_file('../data/zipcodes.geojson')\n",
    "zipcodes = zipcodes[['zip', 'po_name', 'geometry']]"
   ]
  },
  {
   "cell_type": "code",
   "execution_count": null,
   "id": "fba68e68",
   "metadata": {},
   "outputs": [],
   "source": [
    "zipcodes['zip'] = zipcodes['zip'].astype(int)\n",
    "scooteruse['zip'] = scooteruse['zip'].astype(int)"
   ]
  },
  {
   "cell_type": "code",
   "execution_count": null,
   "id": "63da18f5",
   "metadata": {},
   "outputs": [],
   "source": [
    "scooteruse = pd.merge(scooteruse, zipcodes, how='inner', on='zip')"
   ]
  },
  {
   "cell_type": "code",
   "execution_count": null,
   "id": "b5ab55f4",
   "metadata": {},
   "outputs": [],
   "source": [
    "scooteruseclean = scooteruse.drop_duplicates(keep='first', inplace=False, ignore_index=False)"
   ]
  },
  {
   "cell_type": "code",
   "execution_count": null,
   "id": "a2263f2f",
   "metadata": {},
   "outputs": [],
   "source": [
    "suff_use = scooteruseclean[(scooteruseclean['use_status'] == 'suff_use')]\n",
    "underused = scooteruseclean[(scooteruseclean['use_status'] == 'underused')]\n",
    "unused = scooteruseclean[(scooteruseclean['use_status'] == 'unused')]"
   ]
  },
  {
   "cell_type": "code",
   "execution_count": null,
   "id": "890fe70d",
   "metadata": {},
   "outputs": [],
   "source": [
    "scooteruseclean['weekday'] = pd.to_datetime(scooteruseclean['date'])\n",
    "scooteruseclean['weekday'] = scooteruseclean['weekday'].dt.day_name()"
   ]
  },
  {
   "cell_type": "code",
   "execution_count": null,
   "id": "bc210223",
   "metadata": {},
   "outputs": [],
   "source": [
    "useaggs = scooteruseclean.groupby(by=['use_status', 'zip']).describe()"
   ]
  },
  {
   "cell_type": "code",
   "execution_count": null,
   "id": "93299fb1",
   "metadata": {},
   "outputs": [],
   "source": [
    "zipaggs = scooteruseclean.groupby(by='zip').describe().reset_index(drop=True)"
   ]
  }
 ],
 "metadata": {
  "kernelspec": {
   "display_name": "Python 3 (ipykernel)",
   "language": "python",
   "name": "python3"
  },
  "language_info": {
   "codemirror_mode": {
    "name": "ipython",
    "version": 3
   },
   "file_extension": ".py",
   "mimetype": "text/x-python",
   "name": "python",
   "nbconvert_exporter": "python",
   "pygments_lexer": "ipython3",
   "version": "3.9.13"
  }
 },
 "nbformat": 4,
 "nbformat_minor": 5
}
